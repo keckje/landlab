{
 "cells": [
  {
   "cell_type": "markdown",
   "metadata": {},
   "source": [
    "<a href=\"http://landlab.github.io\"><img style=\"float: left\" src=\"../../landlab_header.png\"></a>"
   ]
  },
  {
   "cell_type": "markdown",
   "metadata": {},
   "source": [
    "# Using the Landlab NetworkSedimentTransporter component\n",
    "\n",
    "<hr>\n",
    "<small>For more Landlab tutorials, click here: <a href=\"https://landlab.readthedocs.io/en/latest/user_guide/tutorials.html\">https://landlab.readthedocs.io/en/latest/user_guide/tutorials.html</a></small>\n",
    "<hr>\n",
    "\n",
    "This tutorial illustrates how to model the transport of coarse sediment through a synthetic river network using the NetworkSedimentTransporter Landlab component. \n",
    "\n",
    "For an equivalent tutorial demonstrating initialization of the NetworkSedimentTransporter with a *shapefile river network*, [click here](../network_sediment_transporter/network_sediment_transporter_shapefile_network.ipynb).\n",
    "\n",
    "In this example we will: \n",
    "- create a synthetic Landlab grid to represent a river network\n",
    "- create sediment \"parcels\" that will transport through the river network, represented as items in a Landlab DataRecord\n",
    "- run the component\n",
    "- plot the results of the model run"
   ]
  },
  {
   "cell_type": "markdown",
   "metadata": {},
   "source": [
    "Import the necessary libraries, plus a bit of magic so that we can plot within this notebook:"
   ]
  },
  {
   "cell_type": "code",
   "execution_count": 1,
   "metadata": {},
   "outputs": [],
   "source": [
    "import warnings\n",
    "\n",
    "warnings.filterwarnings(\"ignore\")\n",
    "\n",
    "import matplotlib.pyplot as plt\n",
    "import numpy as np\n",
    "from landlab.components import FlowDirectorSteepest, NetworkSedimentTransporter\n",
    "from landlab.data_record import DataRecord\n",
    "from landlab.grid.network import NetworkModelGrid\n",
    "from landlab.plot import graph\n",
    "from landlab.plot import plot_network_and_parcels\n",
    "\n",
    "%matplotlib inline"
   ]
  },
  {
   "cell_type": "markdown",
   "metadata": {},
   "source": [
    "## 1. Create the river network model grid\n",
    "\n",
    "First, we need to create a Landlab NetworkModelGrid to represent the river network. Each link on the grid represents a reach of river. Each node represents a break between reaches. All tributary junctions must be associated with grid nodes. "
   ]
  },
  {
   "cell_type": "code",
   "execution_count": 2,
   "metadata": {},
   "outputs": [
    {
     "data": {
      "text/plain": [
       "<AxesSubplot:xlabel='x', ylabel='y'>"
      ]
     },
     "execution_count": 2,
     "metadata": {},
     "output_type": "execute_result"
    },
    {
     "data": {
      "image/png": "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\n",
      "text/plain": [
       "<Figure size 432x288 with 1 Axes>"
      ]
     },
     "metadata": {
      "needs_background": "light"
     },
     "output_type": "display_data"
    }
   ],
   "source": [
    "y_of_node = (0, 100, 200, 200, 300, 400, 400, 125)\n",
    "x_of_node = (0, 0, 100, -50, -100, 50, -150, -100)\n",
    "\n",
    "nodes_at_link = ((1, 0), (2, 1), (1, 7), (3, 1), (3, 4), (4, 5), (4, 6))\n",
    "\n",
    "grid = NetworkModelGrid((y_of_node, x_of_node), nodes_at_link)\n",
    "\n",
    "plt.figure(0)\n",
    "graph.plot_graph(grid, at=\"node,link\")"
   ]
  },
  {
   "cell_type": "markdown",
   "metadata": {},
   "source": [
    "Our network consists of seven links between 8 nodes. X and Y, above, represent the plan-view coordinates of the node locations. Notes_at_link describes the node indices that are connedted by each link. For example, link 2 connects node 1 and node 7. \n",
    "\n",
    "Next, we need to populate the grid with the relevant topographic information: "
   ]
  },
  {
   "cell_type": "code",
   "execution_count": 3,
   "metadata": {},
   "outputs": [],
   "source": [
    "grid.at_node[\"topographic__elevation\"] = [0.0, 0.08, 0.25, 0.15, 0.25, 0.4, 0.8, 0.8]\n",
    "grid.at_node[\"bedrock__elevation\"] = [0.0, 0.08, 0.25, 0.15, 0.25, 0.4, 0.8, 0.8]\n",
    "\n",
    "grid.at_link[\"flow_depth\"] = 2.5 * np.ones(grid.number_of_links)  # m\n",
    "grid.at_link[\"reach_length\"] = 200 * np.ones(grid.number_of_links)  # m\n",
    "grid.at_link[\"channel_width\"] = 1 * np.ones(grid.number_of_links)  # m"
   ]
  },
  {
   "cell_type": "markdown",
   "metadata": {},
   "source": [
    "We must distinguish between topographic elevation (the top surface of the bed sediment) and bedrock elevation (the surface of the river in the absence of modeled sediment). \n",
    "\n",
    "Note that \"reach_length\" is defined by the user, rather than calculated as the minimum distance between nodes. This accounts for channel sinuosity. \n"
   ]
  },
  {
   "cell_type": "markdown",
   "metadata": {},
   "source": [
    "## 2. Create sediment 'parcels' in a DataRecord\n",
    "\n",
    "We represent sediment in the network as discrete parcels (or packages) of grains of uniform size and characteristics. Each parcel is tracked through the network grid according to sediment transport and stratigraphic constraints. \n",
    "\n",
    "Parcels are tracked using the Landlab [DataRecord](../data_record/DataRecord_tutorial.ipynb).\n",
    "\n",
    "First, let's create arrays with all of the essential sediment parcel variables: "
   ]
  },
  {
   "cell_type": "code",
   "execution_count": 4,
   "metadata": {},
   "outputs": [],
   "source": [
    "# element_id is the link on which the parcel begins.\n",
    "element_id = np.repeat(np.arange(grid.number_of_links), 30)\n",
    "element_id = np.expand_dims(element_id, axis=1)\n",
    "\n",
    "volume = 0.05 * np.ones(np.shape(element_id))  # (m3)\n",
    "active_layer = np.ones(np.shape(element_id))  # 1= active, 0 = inactive\n",
    "density = 2650 * np.ones(np.size(element_id))  # (kg/m3)\n",
    "abrasion_rate = 0 * np.ones(np.size(element_id))  # (mass loss /m)\n",
    "\n",
    "# Lognormal GSD\n",
    "medianD = 0.085  # m\n",
    "mu = np.log(medianD)\n",
    "sigma = np.log(2)  # assume that D84 = sigma*D50\n",
    "np.random.seed(0)\n",
    "D = np.random.lognormal(\n",
    "    mu, sigma, np.shape(element_id)\n",
    ")  # (m) the diameter of grains in each parcel"
   ]
  },
  {
   "cell_type": "markdown",
   "metadata": {},
   "source": [
    "In order to track sediment motion, we classify parcels as either active (representing mobile surface sediment) or inactive (immobile subsurface) during each timestep. The active parcels are the most recent parcels to arrive in the link. During a timestep, active parcels are transported downstream (increasing their `location_in_link`, which ranges from 0 to 1) according to a sediment transport formula. \n",
    "\n",
    "We begin by assigning each parcel an arbitrary (and small) arrival time and location in the link. "
   ]
  },
  {
   "cell_type": "code",
   "execution_count": 5,
   "metadata": {},
   "outputs": [],
   "source": [
    "time_arrival_in_link = np.random.rand(np.size(element_id), 1)\n",
    "location_in_link = np.random.rand(np.size(element_id), 1)"
   ]
  },
  {
   "cell_type": "markdown",
   "metadata": {},
   "source": [
    "In addition to the required parcel attributes listed above, you can designate optional parcel characteristics, depending on your needs. For example: "
   ]
  },
  {
   "cell_type": "code",
   "execution_count": 6,
   "metadata": {},
   "outputs": [],
   "source": [
    "lithology = [\"quartzite\"] * np.size(element_id)"
   ]
  },
  {
   "cell_type": "markdown",
   "metadata": {},
   "source": [
    "We now collect the arrays into a dictionary of variables, some of which will be tracked through time (`[\"item_id\", \"time\"]`), and others of which will remain constant through time :"
   ]
  },
  {
   "cell_type": "code",
   "execution_count": 7,
   "metadata": {},
   "outputs": [],
   "source": [
    "variables = {\n",
    "    \"abrasion_rate\": ([\"item_id\"], abrasion_rate),\n",
    "    \"density\": ([\"item_id\"], density),\n",
    "    \"lithology\": ([\"item_id\"], lithology),\n",
    "    \"time_arrival_in_link\": ([\"item_id\", \"time\"], time_arrival_in_link),\n",
    "    \"active_layer\": ([\"item_id\", \"time\"], active_layer),\n",
    "    \"location_in_link\": ([\"item_id\", \"time\"], location_in_link),\n",
    "    \"D\": ([\"item_id\", \"time\"], D),\n",
    "    \"volume\": ([\"item_id\", \"time\"], volume),\n",
    "}"
   ]
  },
  {
   "cell_type": "markdown",
   "metadata": {},
   "source": [
    "With all of the required attributes collected, we can create the parcels DataRecord. Often, parcels will eventually transport off of the downstream-most link. To track these parcels, we have designated a \"`dummy_element`\" here, which has index value `-2`. "
   ]
  },
  {
   "cell_type": "code",
   "execution_count": 8,
   "metadata": {},
   "outputs": [],
   "source": [
    "items = {\"grid_element\": \"link\", \"element_id\": element_id}\n",
    "\n",
    "parcels = DataRecord(\n",
    "    grid,\n",
    "    items=items,\n",
    "    time=[0.0],\n",
    "    data_vars=variables,\n",
    "    dummy_elements={\"link\": [NetworkSedimentTransporter.OUT_OF_NETWORK]},\n",
    ")"
   ]
  },
  {
   "cell_type": "markdown",
   "metadata": {},
   "source": [
    "## 3. Run the NetworkSedimentTransporter\n",
    "\n",
    "With the parcels and grid set up, we can move on to setting up the model. "
   ]
  },
  {
   "cell_type": "code",
   "execution_count": 9,
   "metadata": {},
   "outputs": [],
   "source": [
    "timesteps = 10  # total number of timesteps\n",
    "dt = 60 * 60 * 24 * 1  # length of timestep (seconds)"
   ]
  },
  {
   "cell_type": "markdown",
   "metadata": {},
   "source": [
    "Before running the NST, we need to determine flow direction on the grid (upstream and downstream for each link). To do so, we initalize and run a Landlab flow director component: "
   ]
  },
  {
   "cell_type": "code",
   "execution_count": 10,
   "metadata": {},
   "outputs": [],
   "source": [
    "fd = FlowDirectorSteepest(grid, \"topographic__elevation\")\n",
    "fd.run_one_step()"
   ]
  },
  {
   "cell_type": "markdown",
   "metadata": {},
   "source": [
    "Then, we initialize the network sediment transporter: "
   ]
  },
  {
   "cell_type": "code",
   "execution_count": 11,
   "metadata": {},
   "outputs": [],
   "source": [
    "nst = NetworkSedimentTransporter(\n",
    "    grid,\n",
    "    parcels,\n",
    "    fd,\n",
    "    bed_porosity=0.3,\n",
    "    g=9.81,\n",
    "    fluid_density=1000,\n",
    "    transport_method=\"WilcockCrowe\",\n",
    ")"
   ]
  },
  {
   "cell_type": "markdown",
   "metadata": {},
   "source": [
    "Now we are ready to run the model forward in time: "
   ]
  },
  {
   "cell_type": "code",
   "execution_count": 12,
   "metadata": {},
   "outputs": [
    {
     "name": "stdout",
     "output_type": "stream",
     "text": [
      "Model time:  0.0 timesteps passed\n",
      "Model time:  1.0 timesteps passed\n",
      "Model time:  2.0 timesteps passed\n",
      "Model time:  3.0 timesteps passed\n",
      "Model time:  4.0 timesteps passed\n",
      "Model time:  5.0 timesteps passed\n",
      "Model time:  6.0 timesteps passed\n",
      "Model time:  7.0 timesteps passed\n",
      "Model time:  8.0 timesteps passed\n",
      "Model time:  9.0 timesteps passed\n"
     ]
    }
   ],
   "source": [
    "for t in range(0, (timesteps * dt), dt):\n",
    "    nst.run_one_step(dt)\n",
    "    print(\"Model time: \", t / dt, \"timesteps passed\")"
   ]
  },
  {
   "cell_type": "markdown",
   "metadata": {},
   "source": [
    "## 4. Plot the model results\n",
    "\n",
    "\n",
    "There are landlab plotting tools specific to the `NetworkSedimentTransporter`. In particular, `plot_network_and_parcels` creates a plan-view map of the network and parcels (represented as dots along the network). We can color both the parcels and the links by attributes.  \n",
    "\n",
    "Here, we demonstrate one example use of `plot_network_and_parcels`, which creates a plan-view map of the network and parcels (represented as dots along the network). We can color both the parcels and the links by attributes. For a thorough tutorial on the plotting tools, see [this notebook](../network_sediment_transporter/network_plotting_examples.ipynb).\n",
    "\n",
    "Below, each link (represented as a line) is colored by the total volume of sediment on the link. Each parcel is colored by the parcel grain size. "
   ]
  },
  {
   "cell_type": "code",
   "execution_count": 14,
   "metadata": {},
   "outputs": [
    {
     "data": {
      "image/png": "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\n",
      "text/plain": [
       "<Figure size 432x288 with 5 Axes>"
      ]
     },
     "metadata": {
      "needs_background": "light"
     },
     "output_type": "display_data"
    }
   ],
   "source": [
    "fig = plot_network_and_parcels(\n",
    "    grid,\n",
    "    parcels,\n",
    "    parcel_time_index=1,\n",
    "    parcel_color_attribute=\"D\",\n",
    "    link_attribute=\"sediment_total_volume\",\n",
    "    parcel_size=10,\n",
    "    parcel_alpha=1.0,\n",
    ")"
   ]
  },
  {
   "cell_type": "markdown",
   "metadata": {},
   "source": [
    "In addition, the results of the NST can be visualized by directly accessing information about the grid, the parcels, and by accessing variables stored after the run of NST. \n",
    "\n",
    "As a simple example, we can plot the total transport distance of all parcels through the model run as a function of parcel diameter. "
   ]
  },
  {
   "cell_type": "code",
   "execution_count": null,
   "metadata": {
    "scrolled": false
   },
   "outputs": [],
   "source": [
    "plt.loglog(parcels.dataset.D[:, -1], nst._distance_traveled_cumulative, \".\")\n",
    "plt.xlabel(\"Parcel grain size (m)\")\n",
    "plt.ylabel(\"Cumulative parcel travel distance\")\n",
    "\n",
    "# Note: some of the smallest grain travel distances can exceed the length of the\n",
    "# grid by \"overshooting\" during a single timestep of high transport rate"
   ]
  },
  {
   "cell_type": "markdown",
   "metadata": {},
   "source": [
    "Great, smaller parcels transport farther! "
   ]
  },
  {
   "cell_type": "markdown",
   "metadata": {},
   "source": [
    "### Click here for more <a href=\"https://landlab.readthedocs.io/en/latest/user_guide/tutorials.html\">Landlab tutorials</a>"
   ]
  }
 ],
 "metadata": {
  "kernelspec": {
   "display_name": "Python 3 (ipykernel)",
   "language": "python",
   "name": "python3"
  },
  "language_info": {
   "codemirror_mode": {
    "name": "ipython",
    "version": 3
   },
   "file_extension": ".py",
   "mimetype": "text/x-python",
   "name": "python",
   "nbconvert_exporter": "python",
   "pygments_lexer": "ipython3",
<<<<<<< HEAD
   "version": "3.10.2"
=======
   "version": "3.10.4"
>>>>>>> master
  }
 },
 "nbformat": 4,
 "nbformat_minor": 2
}
