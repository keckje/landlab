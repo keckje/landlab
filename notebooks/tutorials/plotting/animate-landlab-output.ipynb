{
 "cells": [
  {
   "cell_type": "markdown",
   "metadata": {},
   "source": [
    "<a href=\"http://landlab.github.io\"><img style=\"float: left\"\n",
    "src=\"https://raw.githubusercontent.com/landlab/tutorials/release/landlab_header.png\"></a>"
   ]
  },
  {
   "cell_type": "markdown",
   "metadata": {},
   "source": [
    "# Animate Landlab output\n",
    "<hr>\n",
    "\n",
    "<p><small>More Landlab tutorials:\n",
    "<a href=\"https://landlab.readthedocs.io/en/latest/user_guide/tutorials.html\">https://landlab.readthedocs.io/en/latest/user_guide/tutorials.html</a></small></p>\n",
    "\n",
    "<hr>"
   ]
  },
  {
   "cell_type": "markdown",
   "metadata": {},
   "source": [
    "WARNING: This tutorial is not tested. This is because it relys on ffmpeg and imagemagik. \n",
    "\n",
    "It has not been updated to work with Landlab 2.0\n",
    "\n",
    "\n",
    "## Introduction\n",
    "This tutorial presents a workflow to animate model output. The workflow is presented in two phases of a Landlab model.\n",
    "\n",
    "This workflow requires software that might not be installed on your computer. The software is open-source and freely available for Linux, MacOS, and Windows. The following software is required for the model phases of this tutorial:\n",
    "* **Phase 1**: A mp4 video format is produced using FFMpeg (use `conda install ffmpeg`, or the pip equivalent, or visit https://www.ffmpeg.org/download.html).\n",
    "* **Phase 2**: A gif video format is produced using ImageMagick (use `conda install imagemagick`, or the pip equivalent, or visit https://www.imagemagick.org/script/download.php)."
   ]
  },
  {
   "cell_type": "markdown",
   "metadata": {},
   "source": [
    "## Prepare the model for both phases\n",
    "\n",
    "Import the modules called by this tutorial."
   ]
  },
  {
   "cell_type": "code",
   "execution_count": 1,
   "metadata": {},
   "outputs": [],
   "source": [
    "from landlab import RasterModelGrid\n",
    "from landlab.components import FastscapeEroder, FlowAccumulator\n",
    "from landlab.plot import imshow_grid\n",
    "from IPython.display import HTML, Image\n",
    "import matplotlib.animation as animation\n",
    "import matplotlib.pylab as plt\n",
    "import numpy as np"
   ]
  },
  {
   "cell_type": "markdown",
   "metadata": {},
   "source": [
    "Create a grid with random elevation, set boundary conditions, and initialize components."
   ]
  },
  {
   "cell_type": "code",
   "execution_count": 2,
   "metadata": {},
   "outputs": [],
   "source": [
    "mg = RasterModelGrid((40, 40), 100)\n",
    "z = mg.add_zeros(\"topographic__elevation\", at=\"node\")\n",
    "z += np.random.rand(z.size)\n",
    "\n",
    "outlet_id = int(mg.number_of_node_columns * 0.5)\n",
    "mg.set_watershed_boundary_condition_outlet_id(outlet_id, z)\n",
    "mg.at_node[\"topographic__elevation\"][outlet_id] = 0\n",
    "\n",
    "fr = FlowAccumulator(mg)\n",
    "sp = FastscapeEroder(mg, K_sp=3e-5, m_sp=0.5, n_sp=1)"
   ]
  },
  {
   "cell_type": "markdown",
   "metadata": {},
   "source": [
    "Set model time and uplift parameters."
   ]
  },
  {
   "cell_type": "code",
   "execution_count": 3,
   "metadata": {},
   "outputs": [],
   "source": [
    "simulation_duration = 1e6\n",
    "dt = 1000\n",
    "n_timesteps = int(simulation_duration // dt) + 1\n",
    "timesteps = np.linspace(0, simulation_duration, n_timesteps)\n",
    "\n",
    "uplift_rate = 0.001\n",
    "uplift_per_timestep = uplift_rate * dt"
   ]
  },
  {
   "cell_type": "markdown",
   "metadata": {},
   "source": [
    "## Phase 1: Animate elevation change using imshow_grid\n",
    "\n",
    "We first prepare the animation movie file. The model is run and the animation frames are captured together."
   ]
  },
  {
   "cell_type": "code",
   "execution_count": 4,
   "metadata": {
    "scrolled": false
   },
   "outputs": [
    {
     "ename": "FileNotFoundError",
     "evalue": "[WinError 2] The system cannot find the file specified",
     "output_type": "error",
     "traceback": [
      "\u001b[1;31m---------------------------------------------------------------------------\u001b[0m",
      "\u001b[1;31mFileNotFoundError\u001b[0m                         Traceback (most recent call last)",
      "Cell \u001b[1;32mIn[4], line 9\u001b[0m\n\u001b[0;32m      6\u001b[0m writer \u001b[38;5;241m=\u001b[39m animation\u001b[38;5;241m.\u001b[39mFFMpegWriter(fps\u001b[38;5;241m=\u001b[39m\u001b[38;5;241m6\u001b[39m)\n\u001b[0;32m      8\u001b[0m \u001b[38;5;66;03m# Setup the movie file.\u001b[39;00m\n\u001b[1;32m----> 9\u001b[0m writer\u001b[38;5;241m.\u001b[39msetup(fig, \u001b[38;5;124m\"\u001b[39m\u001b[38;5;124mfirst_phase.mp4\u001b[39m\u001b[38;5;124m\"\u001b[39m)\n\u001b[0;32m     11\u001b[0m \u001b[38;5;28;01mfor\u001b[39;00m t \u001b[38;5;129;01min\u001b[39;00m timesteps:\n\u001b[0;32m     12\u001b[0m     \u001b[38;5;66;03m# Uplift and erode.\u001b[39;00m\n\u001b[0;32m     13\u001b[0m     z[mg\u001b[38;5;241m.\u001b[39mcore_nodes] \u001b[38;5;241m+\u001b[39m\u001b[38;5;241m=\u001b[39m uplift_per_timestep\n",
      "File \u001b[1;32m~\\anaconda3\\envs\\landlab_dev\\Lib\\site-packages\\matplotlib\\animation.py:320\u001b[0m, in \u001b[0;36mMovieWriter.setup\u001b[1;34m(self, fig, outfile, dpi)\u001b[0m\n\u001b[0;32m    317\u001b[0m \u001b[38;5;28mself\u001b[39m\u001b[38;5;241m.\u001b[39m_w, \u001b[38;5;28mself\u001b[39m\u001b[38;5;241m.\u001b[39m_h \u001b[38;5;241m=\u001b[39m \u001b[38;5;28mself\u001b[39m\u001b[38;5;241m.\u001b[39m_adjust_frame_size()\n\u001b[0;32m    318\u001b[0m \u001b[38;5;66;03m# Run here so that grab_frame() can write the data to a pipe. This\u001b[39;00m\n\u001b[0;32m    319\u001b[0m \u001b[38;5;66;03m# eliminates the need for temp files.\u001b[39;00m\n\u001b[1;32m--> 320\u001b[0m \u001b[38;5;28mself\u001b[39m\u001b[38;5;241m.\u001b[39m_run()\n",
      "File \u001b[1;32m~\\anaconda3\\envs\\landlab_dev\\Lib\\site-packages\\matplotlib\\animation.py:330\u001b[0m, in \u001b[0;36mMovieWriter._run\u001b[1;34m(self)\u001b[0m\n\u001b[0;32m    327\u001b[0m _log\u001b[38;5;241m.\u001b[39minfo(\u001b[38;5;124m'\u001b[39m\u001b[38;5;124mMovieWriter._run: running command: \u001b[39m\u001b[38;5;132;01m%s\u001b[39;00m\u001b[38;5;124m'\u001b[39m,\n\u001b[0;32m    328\u001b[0m           cbook\u001b[38;5;241m.\u001b[39m_pformat_subprocess(command))\n\u001b[0;32m    329\u001b[0m PIPE \u001b[38;5;241m=\u001b[39m subprocess\u001b[38;5;241m.\u001b[39mPIPE\n\u001b[1;32m--> 330\u001b[0m \u001b[38;5;28mself\u001b[39m\u001b[38;5;241m.\u001b[39m_proc \u001b[38;5;241m=\u001b[39m subprocess\u001b[38;5;241m.\u001b[39mPopen(\n\u001b[0;32m    331\u001b[0m     command, stdin\u001b[38;5;241m=\u001b[39mPIPE, stdout\u001b[38;5;241m=\u001b[39mPIPE, stderr\u001b[38;5;241m=\u001b[39mPIPE,\n\u001b[0;32m    332\u001b[0m     creationflags\u001b[38;5;241m=\u001b[39msubprocess_creation_flags)\n",
      "File \u001b[1;32m~\\anaconda3\\envs\\landlab_dev\\Lib\\subprocess.py:1024\u001b[0m, in \u001b[0;36mPopen.__init__\u001b[1;34m(self, args, bufsize, executable, stdin, stdout, stderr, preexec_fn, close_fds, shell, cwd, env, universal_newlines, startupinfo, creationflags, restore_signals, start_new_session, pass_fds, user, group, extra_groups, encoding, errors, text, umask, pipesize, process_group)\u001b[0m\n\u001b[0;32m   1020\u001b[0m         \u001b[38;5;28;01mif\u001b[39;00m \u001b[38;5;28mself\u001b[39m\u001b[38;5;241m.\u001b[39mtext_mode:\n\u001b[0;32m   1021\u001b[0m             \u001b[38;5;28mself\u001b[39m\u001b[38;5;241m.\u001b[39mstderr \u001b[38;5;241m=\u001b[39m io\u001b[38;5;241m.\u001b[39mTextIOWrapper(\u001b[38;5;28mself\u001b[39m\u001b[38;5;241m.\u001b[39mstderr,\n\u001b[0;32m   1022\u001b[0m                     encoding\u001b[38;5;241m=\u001b[39mencoding, errors\u001b[38;5;241m=\u001b[39merrors)\n\u001b[1;32m-> 1024\u001b[0m     \u001b[38;5;28mself\u001b[39m\u001b[38;5;241m.\u001b[39m_execute_child(args, executable, preexec_fn, close_fds,\n\u001b[0;32m   1025\u001b[0m                         pass_fds, cwd, env,\n\u001b[0;32m   1026\u001b[0m                         startupinfo, creationflags, shell,\n\u001b[0;32m   1027\u001b[0m                         p2cread, p2cwrite,\n\u001b[0;32m   1028\u001b[0m                         c2pread, c2pwrite,\n\u001b[0;32m   1029\u001b[0m                         errread, errwrite,\n\u001b[0;32m   1030\u001b[0m                         restore_signals,\n\u001b[0;32m   1031\u001b[0m                         gid, gids, uid, umask,\n\u001b[0;32m   1032\u001b[0m                         start_new_session, process_group)\n\u001b[0;32m   1033\u001b[0m \u001b[38;5;28;01mexcept\u001b[39;00m:\n\u001b[0;32m   1034\u001b[0m     \u001b[38;5;66;03m# Cleanup if the child failed starting.\u001b[39;00m\n\u001b[0;32m   1035\u001b[0m     \u001b[38;5;28;01mfor\u001b[39;00m f \u001b[38;5;129;01min\u001b[39;00m \u001b[38;5;28mfilter\u001b[39m(\u001b[38;5;28;01mNone\u001b[39;00m, (\u001b[38;5;28mself\u001b[39m\u001b[38;5;241m.\u001b[39mstdin, \u001b[38;5;28mself\u001b[39m\u001b[38;5;241m.\u001b[39mstdout, \u001b[38;5;28mself\u001b[39m\u001b[38;5;241m.\u001b[39mstderr)):\n",
      "File \u001b[1;32m~\\anaconda3\\envs\\landlab_dev\\Lib\\subprocess.py:1493\u001b[0m, in \u001b[0;36mPopen._execute_child\u001b[1;34m(self, args, executable, preexec_fn, close_fds, pass_fds, cwd, env, startupinfo, creationflags, shell, p2cread, p2cwrite, c2pread, c2pwrite, errread, errwrite, unused_restore_signals, unused_gid, unused_gids, unused_uid, unused_umask, unused_start_new_session, unused_process_group)\u001b[0m\n\u001b[0;32m   1491\u001b[0m \u001b[38;5;66;03m# Start the process\u001b[39;00m\n\u001b[0;32m   1492\u001b[0m \u001b[38;5;28;01mtry\u001b[39;00m:\n\u001b[1;32m-> 1493\u001b[0m     hp, ht, pid, tid \u001b[38;5;241m=\u001b[39m _winapi\u001b[38;5;241m.\u001b[39mCreateProcess(executable, args,\n\u001b[0;32m   1494\u001b[0m                              \u001b[38;5;66;03m# no special security\u001b[39;00m\n\u001b[0;32m   1495\u001b[0m                              \u001b[38;5;28;01mNone\u001b[39;00m, \u001b[38;5;28;01mNone\u001b[39;00m,\n\u001b[0;32m   1496\u001b[0m                              \u001b[38;5;28mint\u001b[39m(\u001b[38;5;129;01mnot\u001b[39;00m close_fds),\n\u001b[0;32m   1497\u001b[0m                              creationflags,\n\u001b[0;32m   1498\u001b[0m                              env,\n\u001b[0;32m   1499\u001b[0m                              cwd,\n\u001b[0;32m   1500\u001b[0m                              startupinfo)\n\u001b[0;32m   1501\u001b[0m \u001b[38;5;28;01mfinally\u001b[39;00m:\n\u001b[0;32m   1502\u001b[0m     \u001b[38;5;66;03m# Child is launched. Close the parent's copy of those pipe\u001b[39;00m\n\u001b[0;32m   1503\u001b[0m     \u001b[38;5;66;03m# handles that only the child should have open.  You need\u001b[39;00m\n\u001b[1;32m   (...)\u001b[0m\n\u001b[0;32m   1506\u001b[0m     \u001b[38;5;66;03m# pipe will not close when the child process exits and the\u001b[39;00m\n\u001b[0;32m   1507\u001b[0m     \u001b[38;5;66;03m# ReadFile will hang.\u001b[39;00m\n\u001b[0;32m   1508\u001b[0m     \u001b[38;5;28mself\u001b[39m\u001b[38;5;241m.\u001b[39m_close_pipe_fds(p2cread, p2cwrite,\n\u001b[0;32m   1509\u001b[0m                          c2pread, c2pwrite,\n\u001b[0;32m   1510\u001b[0m                          errread, errwrite)\n",
      "\u001b[1;31mFileNotFoundError\u001b[0m: [WinError 2] The system cannot find the file specified"
     ]
    },
    {
     "data": {
      "image/png": "[encoded data removed]",
      "text/plain": [
       "<Figure size 640x480 with 1 Axes>"
      ]
     },
     "metadata": {},
     "output_type": "display_data"
    }
   ],
   "source": [
    "# Create a matplotlib figure for the animation.\n",
    "fig, ax = plt.subplots(1, 1)\n",
    "\n",
    "# Initiate an animation writer using the matplotlib module, `animation`.\n",
    "# Set up to animate 6 frames per second (fps)\n",
    "writer = animation.FFMpegWriter(fps=6)\n",
    "\n",
    "# Setup the movie file.\n",
    "writer.setup(fig, \"first_phase.mp4\")\n",
    "\n",
    "for t in timesteps:\n",
    "    # Uplift and erode.\n",
    "    z[mg.core_nodes] += uplift_per_timestep\n",
    "    fr.run_one_step()\n",
    "    sp.run_one_step(dt)\n",
    "\n",
    "    # Update the figure every 50,000 years.\n",
    "    if t % 5e4 == 0:\n",
    "        imshow_grid(mg, z, colorbar_label=\"elevation (m)\")\n",
    "        plt.title(\"{:.0f} kiloyears\".format(t * 1e-3))\n",
    "\n",
    "        # Capture the state of `fig`.\n",
    "        writer.grab_frame()\n",
    "\n",
    "        # Remove the colorbar and clear the axis to reset the\n",
    "        # figure for the next animation timestep.\n",
    "        plt.gci().colorbar.remove()\n",
    "        ax.cla()\n",
    "\n",
    "plt.close()"
   ]
  },
  {
   "cell_type": "markdown",
   "metadata": {},
   "source": [
    "### Finish the animation\n",
    "\n",
    "The method, `writer.finish` completes the processing of the movie and saves then it."
   ]
  },
  {
   "cell_type": "code",
   "execution_count": null,
   "metadata": {},
   "outputs": [],
   "source": [
    "writer.finish()"
   ]
  },
  {
   "cell_type": "markdown",
   "metadata": {},
   "source": [
    "This code loads the saved mp4 and presents it in a Jupyter Notebook."
   ]
  },
  {
   "cell_type": "code",
   "execution_count": null,
   "metadata": {},
   "outputs": [],
   "source": [
    "HTML(\n",
    "    \"\"\"<div align=\"middle\"> <video width=\"80%\" controls loop>\n",
    "     <source src=\"first_phase.mp4\" type=\"video/mp4\"> </video></div>\"\"\"\n",
    ")"
   ]
  },
  {
   "cell_type": "markdown",
   "metadata": {},
   "source": [
    "## Phase 2: Animate multiple visualizations of elevation change over time\n",
    "\n",
    "In the second model phase, we will create an animation similar to the one above, although with the following differences:\n",
    "* The uplift rate is greater.\n",
    "* The animation file format is `gif`.\n",
    "* The figure has two subplots.\n",
    "* The data of one of the subplots is updated rather than recreating the plot from scratch for each frame.\n",
    "* The animation frame rate (fps) is lower."
   ]
  },
  {
   "cell_type": "markdown",
   "metadata": {},
   "source": [
    "Increase uplift rate prior to running the second phase of the model."
   ]
  },
  {
   "cell_type": "code",
   "execution_count": null,
   "metadata": {},
   "outputs": [],
   "source": [
    "increased_uplift_per_timestep = 10 * uplift_per_timestep"
   ]
  },
  {
   "cell_type": "markdown",
   "metadata": {},
   "source": [
    "### Run the second phase of the model\n",
    "\n",
    "Here we layout the figure with a left and right subplot.\n",
    "* The left subplot will be an animation of the grid similar to phase 1. We will recreate the image of this subplot for each animation frame.\n",
    "* The right subplot will be a line plot of the mean elevation over time. We will layout the subplot elements (labels, limits) before running the model, and then extend the plot line at each animation frame.\n",
    "\n",
    "`axes[0]` and `axes[1]` refer to the left and right subplot, respectively.\n",
    "\n",
    "A gif formatted movie is created in this model phase using the software, ImageMagick."
   ]
  },
  {
   "cell_type": "code",
   "execution_count": null,
   "metadata": {},
   "outputs": [],
   "source": [
    "# Create a matplotlib figure for the animation.\n",
    "fig2, axes = plt.subplots(1, 2, figsize=(9, 3))\n",
    "fig2.subplots_adjust(top=0.85, bottom=0.25, wspace=0.4)\n",
    "\n",
    "# Layout right subplot.\n",
    "\n",
    "time = 0\n",
    "\n",
    "(line,) = axes[1].plot(time, z.mean(), \"k\")\n",
    "\n",
    "axes[1].set_title(\"mean elevation over time\")\n",
    "axes[1].set_xlim([0, 1000])\n",
    "axes[1].set_ylim([0, 1000])\n",
    "axes[1].set_xlabel(\"time (kyr)\")\n",
    "axes[1].set_ylabel(\"elevation (m)\")\n",
    "\n",
    "# Initiate a writer and set up a movie file.\n",
    "writer = animation.ImageMagickWriter(fps=2)\n",
    "writer.setup(fig2, \"second_phase.gif\")\n",
    "\n",
    "for t in timesteps:\n",
    "    # Uplift and erode.\n",
    "    z[mg.core_nodes] += increased_uplift_per_timestep\n",
    "    fr.run_one_step()\n",
    "    sp.run_one_step(dt)\n",
    "\n",
    "    # Update the figure every 50,000 years.\n",
    "    if t % 5e4 == 0:\n",
    "        fig2.sca(axes[0])\n",
    "        fig2.suptitle(\"{:.0f} kiloyears\".format(t * 1e-3))\n",
    "\n",
    "        # Plot the left subplot.\n",
    "        axes[0].set_title(\"topography\")\n",
    "        imshow_grid(mg, z, colorbar_label=\"elevation (m)\")\n",
    "        colorbar = plt.gci().colorbar\n",
    "\n",
    "        # Update the right subplot.\n",
    "        line.set_xdata(np.append(line.get_xdata(), t * 1e-3))\n",
    "        line.set_ydata(np.append(line.get_ydata(), z.mean()))\n",
    "\n",
    "        # Capture the state of `fig2`.\n",
    "        writer.grab_frame()\n",
    "\n",
    "        # Reset the figure for the next animation time step.\n",
    "        plt.cla()\n",
    "        colorbar.remove()\n",
    "\n",
    "writer.finish()\n",
    "\n",
    "plt.close()"
   ]
  },
  {
   "cell_type": "markdown",
   "metadata": {},
   "source": [
    "This code loads the saved mp4 and presents it in a Jupyter Notebook."
   ]
  },
  {
   "cell_type": "code",
   "execution_count": null,
   "metadata": {},
   "outputs": [],
   "source": [
    "Image(filename=\"second_phase.gif\")"
   ]
  },
  {
   "cell_type": "markdown",
   "metadata": {},
   "source": [
    "### Click here for more <a href=\"https://landlab.readthedocs.io/en/latest/user_guide/tutorials.html\">Landlab tutorials</a>"
   ]
  }
 ],
 "metadata": {
  "kernelspec": {
   "display_name": "Python 3 (ipykernel)",
   "language": "python",
   "name": "python3"
  },
  "language_info": {
   "codemirror_mode": {
    "name": "ipython",
    "version": 3
   },
   "file_extension": ".py",
   "mimetype": "text/x-python",
   "name": "python",
   "nbconvert_exporter": "python",
   "pygments_lexer": "ipython3",
   "version": "3.11.2"
  }
 },
 "nbformat": 4,
 "nbformat_minor": 2
}
