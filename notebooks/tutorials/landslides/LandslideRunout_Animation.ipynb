{
 "cells": [
  {
   "cell_type": "markdown",
   "id": "1ca085a4",
   "metadata": {},
   "source": [
    "## This notebook demonstrates how to run MassWastingRunout on a real hillslope:\n",
    "## The Cascade, 2022 landslide"
   ]
  },
  {
   "cell_type": "code",
   "execution_count": null,
   "id": "cb42b39d",
   "metadata": {},
   "outputs": [],
   "source": [
    "# setup\n",
    "import os\n",
    "\n",
    "## import plotting tools\n",
    "from mpl_toolkits.mplot3d import Axes3D\n",
    "import matplotlib.pyplot as plt\n",
    "import pandas as pd\n",
    "import numpy as np\n",
    "\n",
    "## import necessary landlab components\n",
    "from landlab import RasterModelGrid\n",
    "from landlab.components import FlowAccumulator\n",
    "from landlab.components import(FlowDirectorD8, \n",
    "                                FlowDirectorDINF, \n",
    "                                FlowDirectorMFD, \n",
    "                                FlowDirectorSteepest)\n",
    "\n",
    "from landlab.components.mass_wasting_router import MassWastingRunout\n",
    "\n",
    "## import landlab plotting functionality\n",
    "from landlab.plot.drainage_plot import drainage_plot\n",
    "from landlab import imshow_grid_at_node\n",
    "\n",
    "## import functions\n",
    "from landlab.io.esri_ascii import write_esri_ascii\n",
    "from landlab.io import read_esri_ascii\n",
    "from landlab.io.netcdf import read_netcdf\n",
    "\n",
    "from landlab.components import ChannelProfiler, FlowAccumulator, DepressionFinderAndRouter\n",
    "\n",
    "# load plotting functions\n",
    "os.chdir('C:/Users/keckje/Documents/GitHub/landlab/notebooks/tutorials/landslides')\n",
    "python_file = open(\"imshow_grid_at_node_with_alpha.txt\").read()\n",
    "exec(python_file)"
   ]
  },
  {
   "cell_type": "markdown",
   "id": "a8212f82",
   "metadata": {},
   "source": [
    "### set MassWastingRunout parameters"
   ]
  },
  {
   "cell_type": "code",
   "execution_count": null,
   "id": "de02ffc3",
   "metadata": {},
   "outputs": [],
   "source": [
    "# model run options\n",
    "mw_id = 1\n",
    "deposition_rule = \"critical_slope\"\n",
    "effective_qsi = True\n",
    "g_erosion = True\n",
    "settle_deposit = False\n",
    "attributes = ['particle__diameter']\n",
    "\n",
    "# parameters\n",
    "mw_dict = {'critical slope': [0.15589918235700001],\n",
    " 'minimum flux': 0.3,\n",
    " 'erosion coefficient': 0.0337443,\n",
    " 'erosion exponent': 0.2,\n",
    " 'effective particle diameter': 0.316,\n",
    " 'vol solids concentration': 0.6,\n",
    " 'density solids': 2650,\n",
    " 'typical flow thickness, erosion': 2,\n",
    " 'typical slope, erosion': 0.25,\n",
    " 'max observed flow depth': 5,\n",
    " 'threshold flux': 0.76600115989200002}"
   ]
  },
  {
   "cell_type": "markdown",
   "id": "6a392bcd",
   "metadata": {},
   "source": [
    "### define elevation range over which modeled flow will be compared to observed to evaluate calibration"
   ]
  },
  {
   "cell_type": "code",
   "execution_count": null,
   "id": "50b860b2",
   "metadata": {},
   "outputs": [],
   "source": [
    "el_l = 230\n",
    "el_h = 430"
   ]
  },
  {
   "cell_type": "markdown",
   "id": "882cc7f6",
   "metadata": {},
   "source": [
    "### prep model GIS inputs"
   ]
  },
  {
   "cell_type": "code",
   "execution_count": null,
   "id": "1c9364cc",
   "metadata": {},
   "outputs": [],
   "source": [
    "# GIS generated inputs\n",
    "bdfdem = '2019li_5m10m_xv2.asc' # before debris flow dem\n",
    "lsnodes = 'ls_poly_v5_10m.asc' # landslide poligon nodes\n",
    "bdfdem_hs = '2019li_2m_xv2_hs.asc' # before debris flow dem hs\n",
    "odfdem = 'dif_10m_t7.asc' # observed dem difference\n"
   ]
  },
  {
   "cell_type": "markdown",
   "id": "37573d78",
   "metadata": {},
   "source": [
    "####  define a few plotting functions"
   ]
  },
  {
   "cell_type": "code",
   "execution_count": null,
   "id": "a6563755",
   "metadata": {},
   "outputs": [],
   "source": [
    "# plotting functions\n",
    "def plot_node_field_with_shaded_high_res_dem(mg, mg_hs, field, save_name= None, plot_name = None, figsize = (12,9.5), \n",
    "                                    cmap = 'terrain', fontsize = 12,alpha = 0.5, cbr = None, norm = None, allow_colorbar = True, colorbar_label =None,\n",
    "                                    var_name = None, var_units = None, domain_buffer = 0, **kwds):\n",
    "\n",
    "    if plot_name is None:\n",
    "        plt.figure(field,figsize= figsize)\n",
    "    else:\n",
    "        plt.figure(plot_name,figsize= figsize) \n",
    "    \n",
    "    d = imshow_grid_at_node(mg_hs, 'hillshade_arc', cmap='Greys_r',\n",
    "                      grid_units=('coordinates', 'coordinates'),\n",
    "                      shrink=0.75, var_name=None, var_units=None,output=None,allow_colorbar=False,\n",
    "                      color_for_background = 'white', color_for_closed= 'white', limits = (0,360))\n",
    "    fig = imshow_grid_at_node(mg, field, cmap= cmap,\n",
    "                      grid_units=('coordinates', 'coordinates'),\n",
    "                      shrink=0.75, var_name=var_name, var_units=var_units,alpha = alpha,output=None,\n",
    "                      color_for_closed= None, color_for_background = None,\n",
    "                      norm = norm,allow_colorbar=allow_colorbar,colorbar_label = colorbar_label)\n",
    "    \n",
    "    plt.xlim([mg.x_of_node[mg.core_nodes].min()-20, mg.x_of_node[mg.core_nodes].max()+domain_buffer])\n",
    "    plt.ylim([mg.y_of_node[mg.core_nodes].min()-20, mg.y_of_node[mg.core_nodes].max()+domain_buffer])\n",
    "    \n",
    "    plt.xticks(fontsize = fontsize)\n",
    "    plt.yticks(fontsize = fontsize)\n",
    "    if cbr is None:\n",
    "        r_values = mg.at_node[field][mg.core_nodes]\n",
    "        plt.clim(r_values.min(), r_values.max())\n",
    "    else:\n",
    "        plt.clim(cbr[0], cbr[1])\n",
    "        \n",
    "    if save_name is not None:\n",
    "        plt.savefig(save_name+'.png', dpi = 300, bbox_inches='tight')\n",
    "\n",
    "\n",
    "\n",
    "def get_values_xy(grid, field):\n",
    "    # convert grid array to input for pcolormesh (from imshow_grid)\n",
    "    values = grid.at_node[field]\n",
    "    values = values.reshape(grid.shape)\n",
    "    y = (\n",
    "        np.arange(values.shape[0] + 1) * grid.dy\n",
    "        - grid.dy * 0.5\n",
    "        + grid.xy_of_lower_left[1]\n",
    "    )\n",
    "    x = (\n",
    "        np.arange(values.shape[1] + 1) * grid.dx\n",
    "        - grid.dx * 0.5\n",
    "        + grid.xy_of_lower_left[0]\n",
    "    )\n",
    "    return x, y, values\n",
    "\n",
    "# plotting function\n",
    "def color_mesh_vals(clim = [-1,1]):\n",
    "    x,y,values = get_values_xy(mg, 'dem_dif_o')\n",
    "    myimage = plt.pcolormesh(x, y, values, cmap = 'bwr', alpha = 0.5)\n",
    "    myimage.set_rasterized(True)\n",
    "    myimage.axes.set_aspect(\"equal\")\n",
    "    plt.autoscale(tight=True)    \n",
    "    plt.clim(clim)\n",
    "    return myimage"
   ]
  },
  {
   "cell_type": "markdown",
   "id": "db75e693",
   "metadata": {},
   "source": [
    "### load GIS inputs onto the grid, including the landslide polygon"
   ]
  },
  {
   "cell_type": "code",
   "execution_count": null,
   "id": "723fe46b",
   "metadata": {
    "scrolled": false
   },
   "outputs": [],
   "source": [
    "#%% load GIS inputs\n",
    "\n",
    "# dem\n",
    "mg, z = read_esri_ascii(bdfdem, name='topographic__elevation')\n",
    "\n",
    "# ls nodes\n",
    "_, mw1 = read_esri_ascii(lsnodes, name='mass__wasting_id')\n",
    "mg.add_field('node', 'mass__wasting_id',mw1.astype(int))\n",
    "\n",
    "# observed deposition\n",
    "_, mw1 = read_esri_ascii(odfdem, name='dem_dif_o')\n",
    "mg.add_field('node', 'dem_dif_o',mw1)\n",
    "mg.at_node['dem_dif_o'][mg.at_node['dem_dif_o'] == -9999] = 0 # change null values to zero\n",
    "\n",
    "# soil depth\n",
    "# here using uniform depth\n",
    "depth = np.ones(mg.at_node['topographic__elevation'].shape[0])*1.2\n",
    "mg.add_field('node', 'soil__thickness',depth)\n",
    "\n",
    "# for landslide, set depth equal to field estimated average depth\n",
    "lsdepth = 'sd_s1000_v5_10m.asc' # dem difference inferred landslide depth, may need to increase depth at lower part of landslide\n",
    "_, lsd = read_esri_ascii(lsdepth, name='ls_depth')\n",
    "lsd = lsd[lsd != -9999]\n",
    "mg.at_node['soil__thickness'][mg.at_node['mass__wasting_id'] == mw_id] = -1*lsd\n",
    "\n",
    "# high res hillshade for plot background\n",
    "mg_hs, hs = read_esri_ascii(bdfdem_hs, name='hillshade')\n",
    "mg_hs.at_node['hillshade_arc'] = hs\n",
    "mg_hs.at_node['hillshade_arc'][mg_hs.at_node['hillshade_arc'] == -9999] = np.nan\n",
    "\n",
    "mg.set_watershed_boundary_condition(z) # finds lowest point in dem and sets it as an open node\n",
    "\n",
    "# add particle diameter\n",
    "mg.at_node['particle__diameter'] = np.ones(len(mg.node_x))*mw_dict['effective particle diameter']\n",
    "\n",
    "# flow accumulater to get contributing area to each grid cell\n",
    "fa = FlowAccumulator(mg, \n",
    "                      'topographic__elevation',\n",
    "                      flow_director='FlowDirectorD8')\n",
    "fa.run_one_step()\n",
    "\n",
    "# fill depressions to correct surface area determination\n",
    "df_4 = DepressionFinderAndRouter(mg)\n",
    "df_4.map_depressions()\n",
    "\n",
    "# landlab built in hillshade\n",
    "mg.at_node['hillshade'] = mg.calc_hillshade_at_node(elevs=z, alt=37., az=210.)\n",
    "\n",
    "\n",
    "# save an copy of the initial elevation for dem differencing\n",
    "_ = mg.add_field('topographic__initial_elevation',\n",
    "                    mg.at_node['topographic__elevation'],\n",
    "                    at='node',\n",
    "                    copy = True)\n",
    "\n"
   ]
  },
  {
   "cell_type": "markdown",
   "id": "9d453790",
   "metadata": {},
   "source": [
    "### Check model inputs"
   ]
  },
  {
   "cell_type": "markdown",
   "id": "955a94db",
   "metadata": {},
   "source": [
    "#### location of landslide body"
   ]
  },
  {
   "cell_type": "code",
   "execution_count": null,
   "id": "837601d5",
   "metadata": {},
   "outputs": [],
   "source": [
    "plt.figure()\n",
    "plot_node_field_with_shaded_high_res_dem(mg, mg_hs = mg_hs, field = 'mass__wasting_id',\n",
    "                                         plot_name = 'high_res', fontsize = 10,cmap = 'binary',alpha = .5, \n",
    "                                         figsize = (7,7), cbr = [0,1])"
   ]
  },
  {
   "cell_type": "markdown",
   "id": "f6d3c5de",
   "metadata": {},
   "source": [
    "#### Look at drainage network. Notice the two roads that cross the flow path below the landslide body."
   ]
  },
  {
   "cell_type": "code",
   "execution_count": null,
   "id": "4d6ffe7d",
   "metadata": {},
   "outputs": [],
   "source": [
    "plt.figure()\n",
    "plot_node_field_with_shaded_high_res_dem(mg, mg_hs = mg_hs, field = 'drainage_area',\n",
    "                                         plot_name = 'high_res', fontsize = 10,cmap = 'Blues',alpha = .75, \n",
    "                                         figsize = (7,7))"
   ]
  },
  {
   "cell_type": "markdown",
   "id": "a3fd9172",
   "metadata": {},
   "source": [
    "#### look at slope. We expect deposition at lower slopes and erosion at higher slopes"
   ]
  },
  {
   "cell_type": "code",
   "execution_count": null,
   "id": "016d8c90",
   "metadata": {},
   "outputs": [],
   "source": [
    "# visually check inputs\n",
    "plt.figure()\n",
    "plot_node_field_with_shaded_high_res_dem(mg, mg_hs = mg_hs, field = 'topographic__steepest_slope',\n",
    "                                         plot_name = 'high_res', fontsize = 10,cmap = 'gist_ncar',alpha = .75, \n",
    "                                         figsize = (7,7), clim = [0,1])\n",
    "plt.show()"
   ]
  },
  {
   "cell_type": "code",
   "execution_count": null,
   "id": "13c3ea41",
   "metadata": {},
   "outputs": [],
   "source": [
    "# multiflow direction for MWRu\n",
    "# need to delete d8 flow direction\n",
    "mg.delete_field(loc = 'node', name = 'flow__sink_flag')\n",
    "mg.delete_field(loc = 'node', name = 'flow__link_to_receiver_node')\n",
    "mg.delete_field(loc = 'node', name = 'flow__receiver_node')\n",
    "mg.delete_field(loc = 'node', name = 'topographic__steepest_slope')\n",
    "\n",
    "# run flow director, add slope and receiving node fields\n",
    "fd = FlowDirectorMFD(mg, diagonals=True,\n",
    "                      partition_method = 'slope')\n",
    "fd.run_one_step()"
   ]
  },
  {
   "cell_type": "markdown",
   "id": "2a7cccd8",
   "metadata": {},
   "source": [
    "### view the landslide polygon before releasing the landslide"
   ]
  },
  {
   "cell_type": "markdown",
   "id": "45f85a2e",
   "metadata": {},
   "source": [
    "### instantiate MassWastingRunout and run it!!!!"
   ]
  },
  {
   "cell_type": "code",
   "execution_count": null,
   "id": "30ae6079",
   "metadata": {},
   "outputs": [],
   "source": [
    "#%% set model parameters\n",
    "MWR = MassWastingRunout(mg,     mw_dict, \n",
    "                                tracked_attributes = attributes,\n",
    "                                grain_shear = True,\n",
    "                                effective_qsi = effective_qsi,\n",
    "                                settle_deposit = settle_deposit,\n",
    "                                E_constraint = True,\n",
    "                                save = True,)\n",
    "MWR.run_one_step(run_id = 0)"
   ]
  },
  {
   "cell_type": "markdown",
   "id": "471faf3b",
   "metadata": {},
   "source": [
    "### visualize the runout"
   ]
  },
  {
   "cell_type": "code",
   "execution_count": null,
   "id": "a122e93c",
   "metadata": {},
   "outputs": [],
   "source": [
    "import gc\n",
    "import numpy as np\n",
    "import matplotlib.pyplot as plt\n",
    "from mpl_toolkits.mplot3d import Axes3D \n",
    "import matplotlib.animation as animation\n",
    "%matplotlib notebook\n",
    "\n",
    "\n",
    "# update function\n",
    "def update_plot(frame_number, MWR, plot):\n",
    "    mg.at_node['dem_dif_o'] = MWR.runout_evo_maps[0][frame_number]-mg.at_node['topographic__initial_elevation']\n",
    "    plot[0].set_array(mg.at_node['dem_dif_o'])\n",
    "    plot[0].remove()\n",
    "    plot[0] = color_mesh_vals(clim = [-1,1])\n",
    "\n",
    "# prepare the first frame\n",
    "fig = plt.figure(figsize = (9,9))\n",
    "nmax=len(MWR.runout_evo_maps[0].keys())\n",
    "x,y,values = get_values_xy(mg_hs, 'hillshade_arc')\n",
    "myimage = plt.pcolormesh(x, y, values, cmap = 'Greys_r', alpha = 1)\n",
    "myimage.set_rasterized(True)\n",
    "myimage.axes.set_aspect(\"equal\")\n",
    "plt.autoscale(tight=True)\n",
    "plot = [color_mesh_vals(clim = [-1,1])]\n",
    "cb = plt.colorbar(norm=True)\n",
    "\n",
    "\n",
    "animate_10 = animation.FuncAnimation(fig, update_plot, nmax, \n",
    "                                     fargs=(MWR, plot),\n",
    "                                     blit = True, repeat = False, \n",
    "                                     cache_frame_data=False)"
   ]
  },
  {
   "cell_type": "code",
   "execution_count": null,
   "id": "4584c8fa",
   "metadata": {},
   "outputs": [],
   "source": []
  }
 ],
 "metadata": {
  "kernelspec": {
   "display_name": "Python 3 (ipykernel)",
   "language": "python",
   "name": "python3"
  },
  "language_info": {
   "codemirror_mode": {
    "name": "ipython",
    "version": 3
   },
   "file_extension": ".py",
   "mimetype": "text/x-python",
   "name": "python",
   "nbconvert_exporter": "python",
   "pygments_lexer": "ipython3",
   "version": "3.11.2"
  }
 },
 "nbformat": 4,
 "nbformat_minor": 5
}
