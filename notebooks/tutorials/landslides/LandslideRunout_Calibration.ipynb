{
 "cells": [
  {
   "cell_type": "markdown",
   "id": "526536ec",
   "metadata": {},
   "source": [
    "## This notebook demonstrates calibrating MWR to the S-1000, 2022 landslide using the calibrator utility"
   ]
  },
  {
   "cell_type": "markdown",
   "id": "c413f801",
   "metadata": {},
   "source": [
    "### import landlab raster model grid and other python packages needed for running and visualizing the model"
   ]
  },
  {
   "cell_type": "code",
   "execution_count": null,
   "id": "14401b0c",
   "metadata": {},
   "outputs": [],
   "source": [
    "# set computer\n",
    "cpu = \"laptop\"\n",
    "\n",
    "import os\n",
    "\n",
    "## import plotting tools\n",
    "import matplotlib.pyplot as plt\n",
    "import pandas as pd\n",
    "import numpy as np\n",
    "import scipy as sc\n",
    "\n",
    "## import necessary landlab components\n",
    "from landlab import RasterModelGrid\n",
    "from landlab.components import FlowAccumulator\n",
    "from landlab.components import(FlowDirectorD8, \n",
    "                                FlowDirectorDINF, \n",
    "                                FlowDirectorMFD, \n",
    "                                FlowDirectorSteepest)\n",
    "\n",
    "from landlab.components.mass_wasting_router import MassWastingRunout\n",
    "\n",
    "## import landlab plotting functionality\n",
    "from landlab import imshow_grid_at_node\n",
    "\n",
    "## import functions\n",
    "from landlab.io.esri_ascii import write_esri_ascii\n",
    "from landlab.io import read_esri_ascii\n",
    "\n",
    "from landlab.components import ChannelProfiler, FlowAccumulator, DepressionFinderAndRouter\n",
    "\n",
    "if cpu == \"wilcox\":\n",
    "\n",
    "    os.chdir('C:/Users/keckje/Documents/GitHub/code/landlab/LandlabTools')\n",
    "    import LandlabTools as LLT\n",
    "    \n",
    "    os.chdir('C:/Users/keckje/Documents/GitHub/landlab/landlab/components/mass_wasting_router/')\n",
    "    from mwru_calibrator import (MWRu_calibrator,\n",
    "                                    profile_distance,\n",
    "                                    profile_plot,\n",
    "                                    view_profile_nodes)\n",
    "    \n",
    "    os.chdir('C:/Users/keckje/Documents/GitHub/code/preevents/paper2/')\n",
    "    import MassWastingRunoutEvaluationFunctions as MWF\n",
    "    \n",
    "elif cpu == \"laptop\":\n",
    "    \n",
    "    os.chdir('C:/Users/keckje/Documents/GitHub/code/landlab/LandlabTools')\n",
    "    import LandlabTools as LLT\n",
    "    \n",
    "    os.chdir('C:/Users/keckje/Documents/GitHub/landlab/landlab/components/mass_wasting_router/')\n",
    "    from mwru_calibrator import (MWRu_calibrator,\n",
    "                                    profile_distance,\n",
    "                                    profile_plot,\n",
    "                                    view_profile_nodes)\n",
    "    \n",
    "    os.chdir('C:/Users/keckje/Documents/GitHub/code/preevents/paper2/')\n",
    "    import MassWastingRunoutEvaluationFunctions as MWF\n"
   ]
  },
  {
   "cell_type": "markdown",
   "id": "0cadf743",
   "metadata": {},
   "source": [
    "### import other custom plotting code and functions\n",
    "\n",
    "### DEFINE parameter range from which calibrator will search for the optimal parameter values"
   ]
  },
  {
   "cell_type": "code",
   "execution_count": null,
   "id": "56aa7edd",
   "metadata": {},
   "outputs": [],
   "source": [
    "#%% input\n",
    "svnm = 's1000_10m_10_ns_n'\n",
    "\n",
    "# average thickness of landslide\n",
    "mw_id = 1\n",
    "UseSoilDepth = True\n",
    "t_avg = 15\n",
    "vary_cs = False\n",
    "qsc_constraint = True\n",
    "method = \"both\"\n",
    "routing_surface = \"topographic__elevation\"\n",
    "deposition_rule = \"critical_slope\"\n",
    "deposit_style = 'downslope_deposit_sc10'\n",
    "effective_qsi = True\n",
    "qsi_max = 5\n",
    "settle_deposit = False\n",
    "\n",
    "g_erosion = True\n",
    "Pd = 0.316\n",
    "\n",
    "jump_size = 0.09\n",
    "alpha_max = 0.7\n",
    "alpha_min = 0.3#alpha_max-0.4\n",
    "N_cycles = 100\n",
    "\n",
    "\n",
    "# parameters for estimating alpha\n",
    "h = 2\n",
    "s = 0.25\n",
    "ros = 2650\n",
    "vs = 0.6\n",
    "eta = 0.2\n",
    "\n",
    "\n",
    "####\n",
    "# calibration parameters\n",
    "# min, max and best estimate of flux threshold and scour coefficient\n",
    "if vary_cs:\n",
    "    params = {'SD':[0.01,0.75,0.3],\n",
    "              'slpc':[0.005, 0.07, 0.03],\n",
    "              'cs':[0.001,0.05,0.02]}\n",
    "    cs = params['cs'][2]\n",
    "else:\n",
    "    if g_erosion:\n",
    "        cs = 0.0337443 # 0.0457309 #eta = 0.2: 0.02609*2 # doubled because a 10m grid eta = 1, 0.000287025#0.03189\n",
    "    else:\n",
    "        cs = 0.0226254#0.0226254 #eta = 0.2: 0.01290*2 # eta=1, 8.5084e-06#0.01578# 0.035 value used in draft 1 to authors # scour coefficient\n",
    "    params = {'SD':[0.01,1.75,0.3],\n",
    "              'slpc':[0.005, 0.3, 0.03]} \n",
    "# low and upper extent of elevation range used to evalute profile\n",
    "el_l = 230\n",
    "el_h = 430\n",
    "\n",
    "max_number_of_runs = 10\n",
    "####\n",
    "\n",
    "\n",
    "# GIS generated inputs\n",
    "bdfdem = '2019li_5m10m_xv2.asc' # before debris flow dem\n",
    "lsnodes = 'ls_poly_v5_10m.asc' # landslide poligon nodes\n",
    "bdfdem_hs = '2019li_2m_xv2_hs.asc' # before debris flow dem hs\n",
    "odfdem = 'dif_10m_t7.asc' # observed dem difference\n",
    "\n",
    "# cross section xlsx file name\n",
    "xlsxm = 'ProfileNodes_10m.xlsx'\n",
    "\n",
    "if cpu == \"wilcox\":\n",
    "    # GIS input file location\n",
    "    dem_dir = 'D:/keckje/paper_2/RunoutValidation/S1000/2022/input/'\n",
    "    # cross section file location\n",
    "    xs_dir = dem_dir\n",
    "    # file location where output will be saved\n",
    "    mdir = 'D:/keckje/paper_2/RunoutValidation/S1000/2022/output/'\n",
    "elif cpu == \"laptop\":\n",
    "    # GIS input file location\n",
    "    dem_dir = 'D:/UW_PhD/PreeventsProject/Paper_2_MWR/RunoutValidation/S1000/input/'\n",
    "    # cross section file location\n",
    "    xs_dir = 'D:/UW_PhD/PreeventsProject/Paper_2_MWR/RunoutValidation/S1000/maps/S1000/'\n",
    "    # file location where output will be saved\n",
    "    mdir = 'D:/UW_PhD/PreeventsProject/Paper_2_MWR/RunoutValidation/S1000/output/MCMC_v1/'\n"
   ]
  },
  {
   "cell_type": "markdown",
   "id": "0caf5468",
   "metadata": {},
   "source": [
    "### import gis generated inputs (DEM) and set notebook controls"
   ]
  },
  {
   "cell_type": "code",
   "execution_count": null,
   "id": "a106fcf0",
   "metadata": {},
   "outputs": [],
   "source": [
    "#%% load inputs\n",
    "# dem\n",
    "mg, z = read_esri_ascii(dem_dir+bdfdem, name='topographic__elevation')\n",
    "\n",
    "# ls nodes\n",
    "_, mw1 = read_esri_ascii(dem_dir+lsnodes, name='mass__wasting_id')\n",
    "mg.add_field('node', 'mass__wasting_id',mw1.astype(int))\n",
    "\n",
    "# observed deposition\n",
    "_, mw1 = read_esri_ascii(dem_dir+odfdem, name='dem_dif_o')\n",
    "mg.add_field('node', 'dem_dif_o',mw1)\n",
    "mg.at_node['dem_dif_o'][mg.at_node['dem_dif_o'] == -9999] = 0 # change null values to zero\n",
    "\n",
    "# soil depth\n",
    "# here using uniform depth\n",
    "depth = np.ones(mg.at_node['topographic__elevation'].shape[0])*1.2\n",
    "mg.add_field('node', 'soil__thickness',depth)\n",
    "# for landslide, set depth equal to field estimated average depth\n",
    "if UseSoilDepth is True:\n",
    "    lsdepth = 'sd_s1000_v5_10m.asc' # dem difference inferred landslide depth, may need to increase depth at lower part of landslide\n",
    "    _, lsd = read_esri_ascii(dem_dir+lsdepth, name='ls_depth')\n",
    "    lsd = lsd[lsd != -9999]\n",
    "    mg.at_node['soil__thickness'][mg.at_node['mass__wasting_id'] == mw_id] = -1*lsd\n",
    "else:\n",
    "    mg.at_node['soil__thickness'][mg.at_node['mass__wasting_id'] == mw_id] = t_avg\n",
    "\n",
    "# high res hillshade for plot background\n",
    "mg_hs, hs = read_esri_ascii(dem_dir+bdfdem_hs, name='hillshade')\n",
    "\n",
    "mg_hs.at_node['hillshade_arc'] = hs\n",
    "\n",
    "mg.set_watershed_boundary_condition(z) # finds lowest point in dem and sets it as an open node\n",
    "\n",
    "# add particle diameter\n",
    "if g_erosion:\n",
    "    mg.at_node['particle__diameter'] = np.ones(len(mg.node_x))*Pd\n"
   ]
  },
  {
   "cell_type": "markdown",
   "id": "31942164",
   "metadata": {},
   "source": [
    "### view the S1000 2022 landslide body"
   ]
  },
  {
   "cell_type": "code",
   "execution_count": null,
   "id": "23c8bd65",
   "metadata": {},
   "outputs": [],
   "source": [
    "LLT.plot_node_field_with_shaded_dem_Arc(mg, mg_hs = mg_hs, field = 'mass__wasting_id',plot_name = 'high_res', fontsize = 10,alpha = .5)"
   ]
  },
  {
   "cell_type": "code",
   "execution_count": null,
   "id": "724bbe8b",
   "metadata": {},
   "outputs": [],
   "source": [
    "#%% use DEM to create other needed fields\n",
    "# flow accumulater to get contributing area to each grid cell\n",
    "fa = FlowAccumulator(mg, \n",
    "                      'topographic__elevation',\n",
    "                      flow_director='FlowDirectorD8')\n",
    "fa.run_one_step()\n",
    "# fill depressions to correct surface area determination\n",
    "df_4 = DepressionFinderAndRouter(mg)\n",
    "df_4.map_depressions()\n",
    "# landlab built in hillshade\n",
    "mg.at_node['hillshade'] = mg.calc_hillshade_at_node(elevs=z, alt=37., az=210.)\n",
    "\n",
    "# vissually check inputs\n",
    "LLT.plot_node_field_with_shaded_dem(mg,field = 'drainage_area', fontsize = 10,cmap = 'RdBu_r',alpha = .5)\n",
    "LLT.plot_node_field_with_shaded_dem(mg,field = 'mass__wasting_id', fontsize = 10,cmap = 'Reds',alpha = .5)\n",
    "plt.figure()\n",
    "# save an copy of the initial elevation for dem differencing\n",
    "_ = mg.add_field('topographic__initial_elevation',\n",
    "                    mg.at_node['topographic__elevation'],\n",
    "                    at='node',\n",
    "                    copy = True)\n",
    "# multiflow direction for MWRu\n",
    "# need to delete d8 flow direction\n",
    "mg.delete_field(loc = 'node', name = 'flow__sink_flag')\n",
    "mg.delete_field(loc = 'node', name = 'flow__link_to_receiver_node')\n",
    "mg.delete_field(loc = 'node', name = 'flow__receiver_node')\n",
    "mg.delete_field(loc = 'node', name = 'topographic__steepest_slope')\n",
    "# run flow director, add slope and receiving node fields\n",
    "fd = FlowDirectorMFD(mg, diagonals=True,\n",
    "                      partition_method = 'slope')\n",
    "fd.run_one_step()"
   ]
  },
  {
   "cell_type": "markdown",
   "id": "4f89d38f",
   "metadata": {},
   "source": [
    "### set model parameters and instantiate MWR!!!!"
   ]
  },
  {
   "cell_type": "code",
   "execution_count": null,
   "id": "e8776cc9",
   "metadata": {},
   "outputs": [],
   "source": [
    "\n",
    "# debris flow control parameters\n",
    "# how is the volume released\n",
    "npu = [1] # sL = [8,10,25] # number of pulses, list for each landslide\n",
    "nid = [1] #[5,5,5] # delay between pulses (iterations), list for each landslide\n",
    "SD = params['SD'][2]\n",
    "Sc = params['slpc'][2]\n",
    "\n",
    "mw_dict = {'critical slope':[Sc], 'minimum flux':SD,\n",
    "            'scour coefficient':cs, 'scour exponent':eta,\n",
    "            'effective particle diameter':Pd, 'vol solids concentration':vs,\n",
    "            'density solids':ros, 'typical flow thickness, scour':h,\n",
    "            'typical slope, scour':s, 'max observed flow depth': qsi_max }\n",
    "\n",
    "release_dict = {'number of pulses':npu, 'iteration delay':nid }\n",
    "\n",
    "DebrisFlows = MassWastingRunout(mg,release_dict,mw_dict, save = False,\n",
    "                                veg_factor = 1,\n",
    "                                dist_to_full_flux_constraint = 0,\n",
    "                                routing_surface = routing_surface,\n",
    "                                settle_deposit = settle_deposit,\n",
    "                                deposition_rule = deposition_rule,\n",
    "                                deposit_style = deposit_style,\n",
    "                                effective_qsi = effective_qsi)# DebrisFlowScourAndDeposition(mg, df_para_dict)"
   ]
  },
  {
   "cell_type": "markdown",
   "id": "c4489acc",
   "metadata": {},
   "source": [
    "### load channel nodes, and look at the observed topographic change caused by the landslide"
   ]
  },
  {
   "cell_type": "code",
   "execution_count": null,
   "id": "aabd8d9f",
   "metadata": {},
   "outputs": [],
   "source": [
    "# get channel nodes and distance between nodes\n",
    "cl = pd.read_excel(xs_dir+xlsxm,sheet_name = 'cl')\n",
    "cln = cl['MAJORITY'].values\n",
    "xsd = cln\n",
    "dist = profile_distance(mg, xsd)"
   ]
  },
  {
   "cell_type": "code",
   "execution_count": null,
   "id": "60c9d2fd",
   "metadata": {},
   "outputs": [],
   "source": [
    "#%% visualize profile and plan view depositional patterns\n",
    "view_profile_nodes(mg,xsd,'hillshade',cmap = 'Greys')\n",
    "profile_plot(mg, xsd,aspect = 2,figsize = (12,5), fs = 16)\n",
    "\n",
    "MWF.profile_deposition_scour(mg, xsd, field = 'dem_dif_o',  ef = 5, aspect = 2,figsize = (12,5), fs = 16)"
   ]
  },
  {
   "cell_type": "code",
   "execution_count": null,
   "id": "d0258d9f",
   "metadata": {},
   "outputs": [],
   "source": [
    "#%% define the paramete sampling space and parameters for determing the profile metric\n",
    "# slpc, SD, alpha\n",
    "channel_nodes = xsd\n",
    "channel_distance = dist\n",
    "cL = mg.dx\n",
    "profile_calib_dict = {\"el_l\":el_l, \"el_h\": el_h, \"channel_nodes\": channel_nodes,\n",
    "                      \"channel_distance\":channel_distance, \"cL\":cL}\n"
   ]
  },
  {
   "cell_type": "code",
   "execution_count": null,
   "id": "70a1a65c",
   "metadata": {},
   "outputs": [],
   "source": [
    "#%% instantiate the calibration class\n",
    "# Initialize the Dream Class\n",
    "calibrate = MWRu_calibrator(DebrisFlows, params, profile_calib_dict = profile_calib_dict, N_cycles = N_cycles,\n",
    "                            prior_distribution = \"uniform\", jump_size = jump_size, alpha_max = alpha_max, alpha_min=alpha_min,\n",
    "                            plot_tf = True, qsc_constraint = qsc_constraint,\n",
    "                            method = method)"
   ]
  },
  {
   "cell_type": "code",
   "execution_count": null,
   "id": "7dec096a",
   "metadata": {
    "scrolled": false
   },
   "outputs": [],
   "source": [
    "#%% calibrate the model \n",
    "parameters = calibrate(max_number_of_runs = max_number_of_runs)\n",
    "\n"
   ]
  },
  {
   "cell_type": "markdown",
   "id": "946aac96",
   "metadata": {},
   "source": [
    "### plot the parameter values tested by the calibrator"
   ]
  },
  {
   "cell_type": "code",
   "execution_count": null,
   "id": "dabb7fcc",
   "metadata": {},
   "outputs": [],
   "source": [
    "#%% summarize results\n",
    "results = calibrate.LHvals\n",
    "results['params'] = str(calibrate.params)\n",
    "results['mw_dict'] = str(mw_dict)\n",
    "\n",
    "\n",
    "x_mn = params['SD'][0]\n",
    "x_mx = params['SD'][1]\n",
    "y_mn = params['slpc'][0]\n",
    "y_mx = params['slpc'][1]\n",
    "\n",
    "# plot jumps\n",
    "plt.figure(figsize = (6,3))\n",
    "plt.plot(results['selected_value_SD'], results['selected_value_slpc'])\n",
    "plt.xlim([x_mn,x_mx])\n",
    "plt.ylim([y_mn,y_mx])\n",
    "plt.xlabel('crtical flow depth, below which everything stops $qs_c$, [m]')\n",
    "plt.ylabel('Sc')\n"
   ]
  },
  {
   "cell_type": "markdown",
   "id": "03b84ee1",
   "metadata": {},
   "source": [
    "### print best model run parameter values"
   ]
  },
  {
   "cell_type": "code",
   "execution_count": null,
   "id": "c82a1616",
   "metadata": {},
   "outputs": [],
   "source": [
    "\n",
    "best = results[results['candidate_posterior'] == results['candidate_posterior'].max()]\n",
    "print(results.iloc[best['iteration'].values[0]])\n"
   ]
  },
  {
   "cell_type": "markdown",
   "id": "fbb58eae",
   "metadata": {},
   "source": [
    "### if calibrator is run 2000 times, you get this result:"
   ]
  },
  {
   "cell_type": "code",
   "execution_count": null,
   "id": "f050c71b",
   "metadata": {
    "scrolled": false
   },
   "outputs": [],
   "source": [
    "#%% calibration results\n",
    "\n",
    "csvnm = 's1000_10m_2000_ns_nmcmc.csv'#s1000_10m_200_eta0d2__mcmc.csv'#'s1000_10m_2000_omega_eta0d2__mcmc.csv' #'s1000_22_2000_0d15_mcmc.csv'\n",
    "# location of calibration output\n",
    "mdir = 'D:/UW_PhD/PreeventsProject/Paper_2_MWR/RunoutValidation/S1000/output/MCMC_v1/'\n",
    "\n",
    "results, best, sum_dict, params, mw_dict = MWF.calibration_results(mdir, csvnm, aspect = 'auto', fs = 13, cntrs = 6, figsize = (5,3.3),\n",
    "                        save = True, svnm = 'example', wdir = 'D:/temp/', labloc = [[0.05,0.75],[0.05,0.75]])  "
   ]
  },
  {
   "cell_type": "code",
   "execution_count": null,
   "id": "28984efe",
   "metadata": {},
   "outputs": [],
   "source": []
  }
 ],
 "metadata": {
  "kernelspec": {
   "display_name": "Python 3 (ipykernel)",
   "language": "python",
   "name": "python3"
  },
  "language_info": {
   "codemirror_mode": {
    "name": "ipython",
    "version": 3
   },
   "file_extension": ".py",
   "mimetype": "text/x-python",
   "name": "python",
   "nbconvert_exporter": "python",
   "pygments_lexer": "ipython3",
   "version": "3.11.2"
  }
 },
 "nbformat": 4,
 "nbformat_minor": 5
}
