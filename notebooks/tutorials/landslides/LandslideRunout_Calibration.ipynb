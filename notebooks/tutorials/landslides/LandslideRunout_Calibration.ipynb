{
 "cells": [
  {
   "cell_type": "markdown",
   "id": "526536ec",
   "metadata": {},
   "source": [
    "## This notebook demonstrates calibrating MWR to the S-1000, 2022 landslide using the calibrator utility"
   ]
  },
  {
   "cell_type": "markdown",
   "id": "c413f801",
   "metadata": {},
   "source": [
    "### import landlab raster model grid and other python packages needed for running and visualizing the model"
   ]
  },
  {
   "cell_type": "code",
   "execution_count": 1,
   "id": "14401b0c",
   "metadata": {},
   "outputs": [
    {
     "ename": "ImportError",
     "evalue": "cannot import name 'avg_debriton_shear_stress_grains' from 'landlab.components.mass_wasting_router.mass_wasting_runout' (C:\\Users\\keckje\\Documents\\GitHub\\landlab\\landlab\\components\\mass_wasting_router\\mass_wasting_runout.py)",
     "output_type": "error",
     "traceback": [
      "\u001b[1;31m---------------------------------------------------------------------------\u001b[0m",
      "\u001b[1;31mImportError\u001b[0m                               Traceback (most recent call last)",
      "Cell \u001b[1;32mIn[1], line 32\u001b[0m\n\u001b[0;32m     30\u001b[0m os\u001b[38;5;241m.\u001b[39mchdir(\u001b[38;5;124m'\u001b[39m\u001b[38;5;124mC:/Users/keckje/Documents/GitHub/landlab/landlab/components/mass_wasting_router/\u001b[39m\u001b[38;5;124m'\u001b[39m)\n\u001b[0;32m     31\u001b[0m \u001b[38;5;66;03m#from mwru_calibrator_working_copy import (MWRu_calibrator,\u001b[39;00m\n\u001b[1;32m---> 32\u001b[0m \u001b[38;5;28;01mfrom\u001b[39;00m \u001b[38;5;21;01mmwru_calibrator\u001b[39;00m \u001b[38;5;28;01mimport\u001b[39;00m (MWRu_calibrator,\n\u001b[0;32m     33\u001b[0m                                 profile_plot,\n\u001b[0;32m     34\u001b[0m                                 define_profile_nodes,\n\u001b[0;32m     35\u001b[0m                                 profile_distance)\n\u001b[0;32m     37\u001b[0m os\u001b[38;5;241m.\u001b[39mchdir(\u001b[38;5;124m'\u001b[39m\u001b[38;5;124mC:/Users/keckje/Documents/GitHub/code/preevents/paper2/\u001b[39m\u001b[38;5;124m'\u001b[39m)\n\u001b[0;32m     38\u001b[0m \u001b[38;5;28;01mimport\u001b[39;00m \u001b[38;5;21;01mMassWastingRunoutEvaluationFunctions\u001b[39;00m \u001b[38;5;28;01mas\u001b[39;00m \u001b[38;5;21;01mMWF\u001b[39;00m\n",
      "File \u001b[1;32m~\\Documents\\GitHub\\landlab\\landlab\\components\\mass_wasting_router\\mwru_calibrator.py:11\u001b[0m\n\u001b[0;32m      9\u001b[0m \u001b[38;5;28;01mfrom\u001b[39;00m \u001b[38;5;21;01mlandlab\u001b[39;00m \u001b[38;5;28;01mimport\u001b[39;00m RasterModelGrid\n\u001b[0;32m     10\u001b[0m \u001b[38;5;28;01mfrom\u001b[39;00m \u001b[38;5;21;01mlandlab\u001b[39;00m\u001b[38;5;21;01m.\u001b[39;00m\u001b[38;5;21;01mcomponents\u001b[39;00m \u001b[38;5;28;01mimport\u001b[39;00m SinkFillerBarnes, FlowAccumulator, FlowDirectorMFD\n\u001b[1;32m---> 11\u001b[0m \u001b[38;5;28;01mfrom\u001b[39;00m \u001b[38;5;21;01mlandlab\u001b[39;00m\u001b[38;5;21;01m.\u001b[39;00m\u001b[38;5;21;01mcomponents\u001b[39;00m\u001b[38;5;21;01m.\u001b[39;00m\u001b[38;5;21;01mmass_wasting_router\u001b[39;00m\u001b[38;5;21;01m.\u001b[39;00m\u001b[38;5;21;01mmass_wasting_runout\u001b[39;00m \u001b[38;5;28;01mimport\u001b[39;00m (MassWastingRunout,\n\u001b[0;32m     12\u001b[0m                                                    avg_debriton_shear_stress_grains,\n\u001b[0;32m     13\u001b[0m                                                    avg_debriton_shear_stress_static,\n\u001b[0;32m     14\u001b[0m                                                    avg_debriton_erosion_rate,\n\u001b[0;32m     15\u001b[0m                                                    avg_erosion_coef_k)\n\u001b[0;32m     16\u001b[0m \u001b[38;5;28;01mfrom\u001b[39;00m \u001b[38;5;21;01mlandlab\u001b[39;00m \u001b[38;5;28;01mimport\u001b[39;00m imshow_grid\n\u001b[0;32m     18\u001b[0m \u001b[38;5;28;01mfrom\u001b[39;00m \u001b[38;5;21;01mlandlab\u001b[39;00m \u001b[38;5;28;01mimport\u001b[39;00m imshow_grid_at_node\n",
      "\u001b[1;31mImportError\u001b[0m: cannot import name 'avg_debriton_shear_stress_grains' from 'landlab.components.mass_wasting_router.mass_wasting_runout' (C:\\Users\\keckje\\Documents\\GitHub\\landlab\\landlab\\components\\mass_wasting_router\\mass_wasting_runout.py)"
     ]
    }
   ],
   "source": [
    "#TO DO: change so that calibrator saves model run and lines, then access after is run to create videos\n",
    "#       create tool for picking profile location, additional function of calibrator  \n",
    "\n",
    "import os\n",
    "\n",
    "## import plotting tools\n",
    "import matplotlib.pyplot as plt\n",
    "import pandas as pd\n",
    "import numpy as np\n",
    "import scipy as sc\n",
    "\n",
    "## import necessary landlab components\n",
    "from landlab import RasterModelGrid\n",
    "from landlab.components import FlowAccumulator\n",
    "from landlab.components import(FlowDirectorD8, \n",
    "                                FlowDirectorMFD)\n",
    "\n",
    "from landlab.components.mass_wasting_router import MassWastingRunout\n",
    "\n",
    "## import landlab plotting functionality\n",
    "from landlab import imshow_grid_at_node\n",
    "\n",
    "## import functions\n",
    "from landlab.io.esri_ascii import write_esri_ascii\n",
    "from landlab.io import read_esri_ascii\n",
    "\n",
    "from landlab.components import ChannelProfiler, FlowAccumulator, DepressionFinderAndRouter\n",
    "\n",
    "\n",
    "os.chdir('C:/Users/keckje/Documents/GitHub/landlab/landlab/components/mass_wasting_router/')\n",
    "#from mwru_calibrator_working_copy import (MWRu_calibrator,\n",
    "from mwru_calibrator import (MWRu_calibrator,\n",
    "                                profile_plot,\n",
    "                                define_profile_nodes,\n",
    "                                profile_distance)\n",
    "\n",
    "os.chdir('C:/Users/keckje/Documents/GitHub/code/preevents/paper2/')\n",
    "import MassWastingRunoutEvaluationFunctions as MWF\n",
    "\n",
    "# load plotting functions\n",
    "os.chdir('C:/Users/keckje/Documents/GitHub/landlab/notebooks/tutorials/landslides')\n",
    "python_file = open(\"imshow_grid_at_node_with_alpha.txt\").read()\n",
    "exec(python_file)"
   ]
  },
  {
   "cell_type": "markdown",
   "id": "0cadf743",
   "metadata": {},
   "source": [
    "### import other custom plotting code and functions\n",
    "\n",
    "### DEFINE parameter range from which calibrator will search for the optimal parameter values"
   ]
  },
  {
   "cell_type": "code",
   "execution_count": null,
   "id": "56aa7edd",
   "metadata": {},
   "outputs": [],
   "source": [
    "#%% input\n",
    "svnm = 's1000_10m_10_ns_n'\n",
    "\n",
    "# average thickness of landslide\n",
    "mw_id = 1\n",
    "UseSoilDepth = True\n",
    "t_avg = 15\n",
    "vary_cs = False\n",
    "qsc_constraint = True\n",
    "method = \"both\"\n",
    "routing_surface = \"topographic__elevation\"\n",
    "deposition_rule = \"critical_slope\"\n",
    "deposit_style = 'downslope_deposit_sc10'\n",
    "effective_qsi = True\n",
    "qsi_max = 5\n",
    "settle_deposit = False\n",
    "\n",
    "g_erosion = True\n",
    "Pd = 0.316\n",
    "\n",
    "jump_size = 0.09\n",
    "alpha_max = 0.7\n",
    "alpha_min = 0.3#alpha_max-0.4\n",
    "N_cycles = 100\n",
    "\n",
    "\n",
    "# parameters for estimating alpha\n",
    "h = 2\n",
    "s = 0.25\n",
    "ros = 2650\n",
    "vs = 0.6\n",
    "eta = 0.2\n",
    "\n",
    "\n",
    "####\n",
    "# calibration parameters\n",
    "# min, max and best estimate of flux threshold and scour coefficient\n",
    "if vary_cs:\n",
    "    params = {'SD':[0.01,0.75,0.3],\n",
    "              'slpc':[0.005, 0.07, 0.03],\n",
    "              'cs':[0.001,0.05,0.02]}\n",
    "    cs = params['cs'][2]\n",
    "else:\n",
    "    if g_erosion:\n",
    "        cs = 0.0337443 # 0.0457309 #eta = 0.2: 0.02609*2 # doubled because a 10m grid eta = 1, 0.000287025#0.03189\n",
    "    else:\n",
    "        cs = 0.0226254#0.0226254 #eta = 0.2: 0.01290*2 # eta=1, 8.5084e-06#0.01578# 0.035 value used in draft 1 to authors # scour coefficient\n",
    "    params = {'SD':[0.01,1.75,0.3],\n",
    "              'slpc':[0.005, 0.3, 0.03]} \n",
    "# low and upper extent of elevation range used to evalute profile\n",
    "el_l = 230\n",
    "el_h = 430\n",
    "\n",
    "max_number_of_runs = 10\n",
    "####\n",
    "\n",
    "\n",
    "# GIS generated inputs\n",
    "bdfdem = '2019li_5m10m_xv2.asc' # before debris flow dem\n",
    "lsnodes = 'ls_poly_v5_10m.asc' # landslide poligon nodes\n",
    "bdfdem_hs = '2019li_2m_xv2_hs.asc' # before debris flow dem hs\n",
    "odfdem = 'dif_10m_t7.asc' # observed dem difference\n",
    "\n",
    "# cross section xlsx file name\n",
    "xlsxm = 'ProfileNodes_10m.xlsx'\n",
    "\n",
    "# GIS input file location\n",
    "dem_dir = 'D:/UW_PhD/PreeventsProject/Paper_2_MWR/RunoutValidation/S1000/input/'\n",
    "# cross section file location\n",
    "xs_dir = 'D:/UW_PhD/PreeventsProject/Paper_2_MWR/RunoutValidation/S1000/maps/S1000/'\n",
    "# file location where output will be saved\n",
    "mdir = 'D:/UW_PhD/PreeventsProject/Paper_2_MWR/RunoutValidation/S1000/output/MCMC_v1/'\n"
   ]
  },
  {
   "cell_type": "markdown",
   "id": "0caf5468",
   "metadata": {},
   "source": [
    "### import gis generated inputs (DEM) and set notebook controls"
   ]
  },
  {
   "cell_type": "code",
   "execution_count": null,
   "id": "a106fcf0",
   "metadata": {},
   "outputs": [],
   "source": [
    "#%% load inputs\n",
    "# dem\n",
    "mg, z = read_esri_ascii(dem_dir+bdfdem, name='topographic__elevation')\n",
    "\n",
    "# ls nodes\n",
    "_, mw1 = read_esri_ascii(dem_dir+lsnodes, name='mass__wasting_id')\n",
    "mg.add_field('node', 'mass__wasting_id',mw1.astype(int))\n",
    "\n",
    "# observed deposition\n",
    "_, mw1 = read_esri_ascii(dem_dir+odfdem, name='dem_dif_o')\n",
    "mg.add_field('node', 'dem_dif_o',mw1)\n",
    "mg.at_node['dem_dif_o'][mg.at_node['dem_dif_o'] == -9999] = 0 # change null values to zero\n",
    "\n",
    "# soil depth\n",
    "# here using uniform depth\n",
    "depth = np.ones(mg.at_node['topographic__elevation'].shape[0])*1.2\n",
    "mg.add_field('node', 'soil__thickness',depth)\n",
    "# for landslide, set depth equal to field estimated average depth\n",
    "if UseSoilDepth is True:\n",
    "    lsdepth = 'sd_s1000_v5_10m.asc' # dem difference inferred landslide depth, may need to increase depth at lower part of landslide\n",
    "    _, lsd = read_esri_ascii(dem_dir+lsdepth, name='ls_depth')\n",
    "    lsd = lsd[lsd != -9999]\n",
    "    mg.at_node['soil__thickness'][mg.at_node['mass__wasting_id'] == mw_id] = -1*lsd\n",
    "else:\n",
    "    mg.at_node['soil__thickness'][mg.at_node['mass__wasting_id'] == mw_id] = t_avg\n",
    "\n",
    "# high res hillshade for plot background\n",
    "mg_hs, hs = read_esri_ascii(dem_dir+bdfdem_hs, name='hillshade')\n",
    "\n",
    "mg_hs.at_node['hillshade_arc'] = hs\n",
    "\n",
    "mg.set_watershed_boundary_condition(z) # finds lowest point in dem and sets it as an open node\n",
    "\n",
    "# add particle diameter\n",
    "if g_erosion:\n",
    "    mg.at_node['particle__diameter'] = np.ones(len(mg.node_x))*Pd\n"
   ]
  },
  {
   "cell_type": "markdown",
   "id": "31942164",
   "metadata": {},
   "source": [
    "### view the S1000 2022 landslide body"
   ]
  },
  {
   "cell_type": "code",
   "execution_count": null,
   "id": "23c8bd65",
   "metadata": {},
   "outputs": [],
   "source": [
    "plot_node_field_with_shaded_high_res_dem(mg, mg_hs = mg_hs, field = 'mass__wasting_id',plot_name = 'high_res',\n",
    "                                         fontsize = 10,alpha = .5,figsize = (6,4))"
   ]
  },
  {
   "cell_type": "code",
   "execution_count": null,
   "id": "724bbe8b",
   "metadata": {},
   "outputs": [],
   "source": [
    "#%% use DEM to create other needed fields\n",
    "# flow accumulater to get contributing area to each grid cell\n",
    "fa = FlowAccumulator(mg, \n",
    "                      'topographic__elevation',\n",
    "                      flow_director='FlowDirectorD8')\n",
    "fa.run_one_step()\n",
    "# fill depressions to correct surface area determination\n",
    "df_4 = DepressionFinderAndRouter(mg)\n",
    "df_4.map_depressions()\n",
    "# landlab built in hillshade\n",
    "mg.at_node['hillshade'] = mg.calc_hillshade_at_node(elevs=z, alt=37., az=210.)\n",
    "\n",
    "# vissually check inputs\n",
    "plot_node_field_with_shaded_dem(mg,field = 'drainage_area', fontsize = 10,cmap = 'RdBu_r',alpha = .5,figsize = (6,4))\n",
    "plot_node_field_with_shaded_dem(mg,field = 'mass__wasting_id', fontsize = 10,cmap = 'Reds',alpha = .5, figsize = (6,4))\n",
    "plt.figure()\n",
    "# save an copy of the initial elevation for dem differencing\n",
    "_ = mg.add_field('topographic__initial_elevation',\n",
    "                    mg.at_node['topographic__elevation'],\n",
    "                    at='node',\n",
    "                    copy = True)\n",
    "# multiflow direction for MWRu\n",
    "# need to delete d8 flow direction\n",
    "mg.delete_field(loc = 'node', name = 'flow__sink_flag')\n",
    "mg.delete_field(loc = 'node', name = 'flow__link_to_receiver_node')\n",
    "mg.delete_field(loc = 'node', name = 'flow__receiver_node')\n",
    "mg.delete_field(loc = 'node', name = 'topographic__steepest_slope')\n",
    "# run flow director, add slope and receiving node fields\n",
    "fd = FlowDirectorMFD(mg, diagonals=True,\n",
    "                      partition_method = 'slope')\n",
    "fd.run_one_step()"
   ]
  },
  {
   "cell_type": "markdown",
   "id": "4f89d38f",
   "metadata": {},
   "source": [
    "### set model parameters and instantiate MWR!!!!"
   ]
  },
  {
   "cell_type": "code",
   "execution_count": null,
   "id": "e8776cc9",
   "metadata": {},
   "outputs": [],
   "source": [
    "\n",
    "# debris flow control parameters\n",
    "# how is the volume released\n",
    "npu = [1] # sL = [8,10,25] # number of pulses, list for each landslide\n",
    "nid = [1] #[5,5,5] # delay between pulses (iterations), list for each landslide\n",
    "SD = params['SD'][2]\n",
    "Sc = params['slpc'][2]\n",
    "attributes = ['particle__diameter']\n",
    "\n",
    "mw_dict = {'critical slope':[Sc], 'threshold flux':SD,\n",
    "            'erosion coefficient':cs, 'erosion exponent':eta,\n",
    "            'effective particle diameter':Pd, 'vol solids concentration':vs,\n",
    "            'density solids':ros, 'typical flow thickness, scour':h,\n",
    "            'typical slope, scour':s, 'max observed flow depth': qsi_max }\n",
    "\n",
    "release_dict = {'number of pulses':npu, 'iteration delay':nid }\n",
    "\n",
    "DebrisFlows = MassWastingRunout(mg, mw_dict, \n",
    "                                tracked_attributes = attributes,\n",
    "                                save = False,\n",
    "                                settle_deposit = settle_deposit,\n",
    "                                effective_qsi = effective_qsi)# DebrisFlowScourAndDeposition(mg, df_para_dict)\n",
    "\n",
    "# add a Dp class variable\n",
    "DebrisFlows.Dp = DebrisFlows._grid.at_node['particle__diameter'].mean()"
   ]
  },
  {
   "cell_type": "markdown",
   "id": "c4489acc",
   "metadata": {},
   "source": [
    "### load channel nodes, and look at the observed topographic change caused by the landslide"
   ]
  },
  {
   "cell_type": "code",
   "execution_count": null,
   "id": "aabd8d9f",
   "metadata": {},
   "outputs": [],
   "source": [
    "# use predefined profile or create your own by uncommenting lower code block\n",
    "# pre-defined profile\n",
    "pnodes = np.array([7141, 7061, 7062, 6982, 6902, 6903, 6823, 6743, 6744, 6664, 6665, 6585, 6505, 6506, 6426, 6346, 6347, 6267, 6268, 6188, 6108, 6028, 5948, 5868, 5788, 5789, 5709, 5629, 5549, 5469, 5470, 5390, 5310, 5311, 5312, 5232, 5233, 5153, 5154, 5074, 4994, 4914, 4834, 4754,4674, 4594, 4595, 4515, 4435, 4436, 4356, 4276, 4196, 4116, 4036,3956, 3876, 3796, 3716, 3715, 3635, 3555, 3475, 3476, 3396, 3316,3317, 3237, 3238, 3158, 3078, 3079, 2999, 2919, 2839, 2759, 2760,2680, 2681, 2601, 2521, 2522, 2442, 2362, 2282, 2283, 2284, 2204,2205, 2125, 2045, 2046, 1966, 1886, 1806, 1726, 1646, 1645, 1565,1485, 1405, 1325, 1326, 1246, 1166, 1167, 1087, 1007,  927,  928,848,  768,  688,  608,  528,  527,  447,  446,  445,  444,  443,363,  362,  361,  360,  359,  439,  438,  437,  436,  435,  434,433,  353,  352,  351,  350,  349,  348,  428,  427,  426,  425,424,  504,  584,  583])\n",
    "pnodedist = np.array([    0. ,     4.2,    11.2,    15.6,    27. ,    31.4,    38.6,50.1,    51.7,    61.6,    72.1,    73.1,    84.5,    92.3,96.1,   107.5,   112.6,   125.7,   130.5,   138.2,   143.9,153.9,   163.9,   173.9,   184.9,   194.9,   200.5,   213.8,223.4,   228.7,   236.3,   246.2,   252.8,   253.1,   266.6,267.7,   280. ,   282.7,   295. ,   296.8,   306.8,   316.8,326.8,   336.9,   346.9,   358.7,   365.7,   369.1,   381.8,388.3,   393.2,   403.2,   413.2,   423.2,   433.2,   443.2,453.2,   469.3,   473.2,   477.1,   483.2,   498.5,   503.7,509.3,   520.8,   526.1,   530.9,   543.2,   549.3,   549.9,563. ,   570.3,   574.7,   584.7,   599.5,   607.4,   613.3,623.1,   631. ,   636. ,   646. ,   652.9,   660.2,   671.8,679. ,   679.2,   693.1,   693.4,   706.9,   713.1,   723.5,731.3,   740. ,   744.4,   754.4,   769.1,   774.3,   779.5,784.4,   794.4,   808.7,   816.7,   824.3,   828.9,   844.4,851. ,   857.7,   869.4,   875.9,   884.5,   888.6,   898.6,908.6,   922.8,   928.6,   929.9,   938.6,   944.2,   944. ,944.2,   949.5,   957.8,   957.6,   957.1,   956.6,   968.8,964.8,   968.8,   968.8,   968.8,   968.8,   968.8,   975.4,981.1,   981.2,   981.4,   981.5,   991.5,   986. ,   992.1,992. ,   991.8,  1012.9,  1007.7,  1007.3,   997.3,   997. ])"
   ]
  },
  {
   "cell_type": "code",
   "execution_count": null,
   "id": "0013f368",
   "metadata": {},
   "outputs": [],
   "source": [
    "# uncomment the two lines below and run this box to define your own profile\n",
    "\n",
    "#%matplotlib qt\n",
    "#pnodes, pnodedist, Lxy = define_profile_nodes(mg)"
   ]
  },
  {
   "cell_type": "code",
   "execution_count": null,
   "id": "60c9d2fd",
   "metadata": {},
   "outputs": [],
   "source": [
    "#%% visualize profile and plan view depositional patterns\n",
    "#view_profile_nodes(mg,xsd,'hillshade',cmap = 'Greys')\n",
    "%matplotlib inline\n",
    "profile_plot(mg, pnodes, pnodedist, aspect = 2,figsize = (4,2), fs = 16)\n",
    "MWF.profile_deposition_scour(mg, pnodes, field = 'dem_dif_o',  ef = 5, aspect = 2,figsize = (4,2), fs = 16)"
   ]
  },
  {
   "cell_type": "code",
   "execution_count": null,
   "id": "d0258d9f",
   "metadata": {},
   "outputs": [],
   "source": [
    "#%% define the paramete sampling space and parameters for determing the profile metric\n",
    "profile_calib_dict = {\"el_l\":el_l, \"el_h\": el_h, \"runout_profile_nodes\": pnodes,\n",
    "                      \"runout_profile_distance\":pnodedist, \"cL\": mg.dx}\n"
   ]
  },
  {
   "cell_type": "code",
   "execution_count": null,
   "id": "70a1a65c",
   "metadata": {},
   "outputs": [],
   "source": [
    "#%% instantiate the calibration class\n",
    "# Initialize the Dream Class\n",
    "calibrate = MWRu_calibrator(DebrisFlows, params, profile_calib_dict = profile_calib_dict, N_cycles = N_cycles,\n",
    "                            prior_distribution = \"uniform\", jump_size = jump_size, alpha_max = alpha_max, alpha_min=alpha_min,\n",
    "                            plot_tf = True, qsc_constraint = qsc_constraint,\n",
    "                            method = method, seed = 7)"
   ]
  },
  {
   "cell_type": "code",
   "execution_count": null,
   "id": "7dec096a",
   "metadata": {
    "scrolled": true
   },
   "outputs": [],
   "source": [
    "#%% calibrate the model \n",
    "parameters = calibrate(max_number_of_runs = max_number_of_runs) # change so that calibrator saves model run and lines, then access after is run to create videos"
   ]
  },
  {
   "cell_type": "code",
   "execution_count": null,
   "id": "7b7907e3",
   "metadata": {},
   "outputs": [],
   "source": [
    "calibrate.dem_dif_m_dict.keys()"
   ]
  },
  {
   "cell_type": "code",
   "execution_count": null,
   "id": "3bcd99ea",
   "metadata": {},
   "outputs": [],
   "source": [
    "calibrate.trial_qs_profiles.keys()"
   ]
  },
  {
   "cell_type": "code",
   "execution_count": null,
   "id": "cc98fc78",
   "metadata": {},
   "outputs": [],
   "source": [
    "# create high res hillshade plot and paper profile plot"
   ]
  },
  {
   "cell_type": "code",
   "execution_count": null,
   "id": "2b1b8a66",
   "metadata": {},
   "outputs": [],
   "source": [
    "calibrate.mbLdf_m['runout_distance']\n"
   ]
  },
  {
   "cell_type": "markdown",
   "id": "946aac96",
   "metadata": {},
   "source": [
    "### plot the parameter values tested by the calibrator"
   ]
  },
  {
   "cell_type": "code",
   "execution_count": null,
   "id": "dabb7fcc",
   "metadata": {},
   "outputs": [],
   "source": [
    "#%% summarize results\n",
    "results = calibrate.LHvals\n",
    "results['params'] = str(calibrate.params)\n",
    "results['mw_dict'] = str(mw_dict)\n",
    "\n",
    "\n",
    "x_mn = params['SD'][0]\n",
    "x_mx = params['SD'][1]\n",
    "y_mn = params['slpc'][0]\n",
    "y_mx = params['slpc'][1]\n",
    "\n",
    "# plot jumps\n",
    "plt.figure(figsize = (6,3))\n",
    "plt.plot(results['selected_value_SD'], results['selected_value_slpc'])\n",
    "plt.xlim([x_mn,x_mx])\n",
    "plt.ylim([y_mn,y_mx])\n",
    "plt.xlabel('crtical flow depth, below which everything stops $qs_c$, [m]')\n",
    "plt.ylabel('Sc')\n"
   ]
  },
  {
   "cell_type": "markdown",
   "id": "03b84ee1",
   "metadata": {},
   "source": [
    "### print best model run parameter values"
   ]
  },
  {
   "cell_type": "code",
   "execution_count": null,
   "id": "c82a1616",
   "metadata": {},
   "outputs": [],
   "source": [
    "\n",
    "best = results[results['candidate_posterior'] == results['candidate_posterior'].max()]\n",
    "print(results.iloc[best['iteration'].values[0]])\n"
   ]
  },
  {
   "cell_type": "markdown",
   "id": "fbb58eae",
   "metadata": {},
   "source": [
    "### if calibrator is run 2000 times, you get this result:"
   ]
  },
  {
   "cell_type": "code",
   "execution_count": null,
   "id": "f050c71b",
   "metadata": {},
   "outputs": [],
   "source": [
    "#%% calibration results\n",
    "\n",
    "csvnm = 's1000_10m_2000_ns_nmcmc.csv'#s1000_10m_200_eta0d2__mcmc.csv'#'s1000_10m_2000_omega_eta0d2__mcmc.csv' #'s1000_22_2000_0d15_mcmc.csv'\n",
    "# location of calibration output\n",
    "mdir = 'D:/UW_PhD/PreeventsProject/Paper_2_MWR/RunoutValidation/S1000/output/MCMC_v1/'\n",
    "\n",
    "results, best, sum_dict, params, mw_dict = MWF.calibration_results(mdir, csvnm, aspect = 'auto', fs = 13, cntrs = 6, figsize = (5,3.3),\n",
    "                        save = True, svnm = 'example', wdir = 'D:/temp/', labloc = [[0.05,0.75],[0.05,0.75]])  "
   ]
  },
  {
   "cell_type": "code",
   "execution_count": null,
   "id": "28984efe",
   "metadata": {},
   "outputs": [],
   "source": []
  }
 ],
 "metadata": {
  "kernelspec": {
   "display_name": "Python 3 (ipykernel)",
   "language": "python",
   "name": "python3"
  },
  "language_info": {
   "codemirror_mode": {
    "name": "ipython",
    "version": 3
   },
   "file_extension": ".py",
   "mimetype": "text/x-python",
   "name": "python",
   "nbconvert_exporter": "python",
   "pygments_lexer": "ipython3",
   "version": "3.11.2"
  }
 },
 "nbformat": 4,
 "nbformat_minor": 5
}
