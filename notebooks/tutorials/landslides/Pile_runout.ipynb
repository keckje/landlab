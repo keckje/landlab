{
 "cells": [
  {
   "cell_type": "markdown",
   "id": "dac67bd0",
   "metadata": {},
   "source": [
    "## Simulate the runout of a pile of debris that suddenly collapses"
   ]
  },
  {
   "cell_type": "markdown",
   "id": "b39b80b6",
   "metadata": {},
   "source": [
    "### import necessary packages and components"
   ]
  },
  {
   "cell_type": "code",
   "execution_count": null,
   "id": "5f922633",
   "metadata": {},
   "outputs": [],
   "source": [
    "import time\n",
    "import matplotlib.pyplot as plt\n",
    "from mpl_toolkits.mplot3d import Axes3D \n",
    "from matplotlib import cm\n",
    "import numpy as np\n",
    "\n",
    "from landlab import RasterModelGrid\n",
    "from landlab.components import FlowAccumulator, FlowDirectorMFD\n",
    "from landlab import imshowhs_grid\n",
    "from landlab.components.mass_wasting_router import MassWastingRunout"
   ]
  },
  {
   "cell_type": "markdown",
   "id": "5d855119",
   "metadata": {},
   "source": [
    "### define the model domain, geometry of the pile and MassWastingRunout parameters Sc, qsi and k"
   ]
  },
  {
   "cell_type": "code",
   "execution_count": null,
   "id": "132d0cc9",
   "metadata": {},
   "outputs": [],
   "source": [
    "# model domain\n",
    "r = 51 # rows in model domain\n",
    "c = r # columns\n",
    "dxdy = 5 # cell size\n",
    "hs = 1 # soil thickness\n",
    "Dp = 0.2 # maximum particle diameter in soil\n",
    "\n",
    "# define the pile\n",
    "ls_h = 5 # height of pile\n",
    "w = 5 # width of pile\n",
    "\n",
    "# MassWastingRunout parameters\n",
    "Sc = [0.03]  # critical slope\n",
    "qsi = 0.01 # threshold flux\n",
    "k = 0.02 # scour coefficient"
   ]
  },
  {
   "cell_type": "markdown",
   "id": "0b6abf2f",
   "metadata": {},
   "source": [
    "### create model grid and add necessary grid fields"
   ]
  },
  {
   "cell_type": "code",
   "execution_count": null,
   "id": "0ca5043c",
   "metadata": {},
   "outputs": [],
   "source": [
    "mg = RasterModelGrid((r,c),dxdy)\n",
    "\n",
    "dem = mg.add_field('topographic__elevation',\n",
    "                    np.ones(r*c)*1,\n",
    "                    at='node')\n",
    "\n",
    "mg.at_node['node_id'] = np.hstack(mg.nodes)\n",
    "# domain for plots\n",
    "xmin = mg.node_x.min(); xmax = mg.node_x.max(); ymin = mg.node_y.min(); ymax = mg.node_y.max()\n",
    "# set boundary conditions, add flow direction\n",
    "mg.set_closed_boundaries_at_grid_edges(True, True, True, True) #close all boundaries\n",
    "# flow directions\n",
    "fa = FlowAccumulator(mg, \n",
    "                      'topographic__elevation',\n",
    "                      flow_director='FlowDirectorD8')\n",
    "fa.run_one_step()\n",
    "# soil thickness\n",
    "thickness = np.ones(mg.number_of_nodes)*hs\n",
    "mg.add_field('node', 'soil__thickness',thickness)\n",
    "# set particle diameter\n",
    "mg.at_node['particle__diameter'] = np.ones(len(mg.node_x))*Dp\n",
    "# copy of initial topography\n",
    "DEMi = mg.at_node['topographic__elevation'].copy()"
   ]
  },
  {
   "cell_type": "markdown",
   "id": "9818bafc",
   "metadata": {},
   "source": [
    "### run flow director to add slope and receiving node fields"
   ]
  },
  {
   "cell_type": "code",
   "execution_count": null,
   "id": "740c1481",
   "metadata": {},
   "outputs": [],
   "source": [
    "mg.delete_field(loc = 'node', name = 'flow__sink_flag')\n",
    "mg.delete_field(loc = 'node', name = 'flow__link_to_receiver_node')\n",
    "mg.delete_field(loc = 'node', name = 'flow__receiver_node')\n",
    "mg.delete_field(loc = 'node', name = 'topographic__steepest_slope')\n",
    "fd = FlowDirectorMFD(mg, diagonals=True,\n",
    "                      partition_method = 'square_root_of_slope')\n",
    "fd.run_one_step()"
   ]
  },
  {
   "cell_type": "markdown",
   "id": "49c8038d",
   "metadata": {},
   "source": [
    "### create the pile"
   ]
  },
  {
   "cell_type": "code",
   "execution_count": null,
   "id": "01428abb",
   "metadata": {},
   "outputs": [],
   "source": [
    "# find central point in domain\n",
    "x = mg.node_x.max()/2\n",
    "y = mg.node_y.max()/2\n",
    "\n",
    "# find all nodes with radius of central point\n",
    "dn = ((mg.node_x-x)**2+(mg.node_y-y)**2)**0.5\n",
    "pile_nodes = np.hstack(mg.nodes)[dn<w*mg.dx]\n",
    "\n",
    "# set those nodes as the landslide (they're all given the same mass__wasting_id number)\n",
    "mg.at_node['mass__wasting_id'] = np.zeros(mg.number_of_nodes).astype(int)\n",
    "mg.at_node['mass__wasting_id'][pile_nodes] = 1\n",
    "\n",
    "# set thickness of landslide (in this case the pile)\n",
    "mg.at_node['soil__thickness'][pile_nodes] = ls_h\n",
    "mg.at_node['topographic__elevation'][pile_nodes] =   mg.at_node['topographic__elevation'][pile_nodes]+(ls_h-hs)"
   ]
  },
  {
   "cell_type": "markdown",
   "id": "f5f3f635",
   "metadata": {},
   "source": [
    "### take a look at the pile"
   ]
  },
  {
   "cell_type": "code",
   "execution_count": null,
   "id": "2bff0b69",
   "metadata": {},
   "outputs": [],
   "source": [
    "# borrow the plotting routine from the flow-director notebookks to make a 3d plot of our surface.\n",
    "# import plotting tools\n",
    "def surf_plot(mg,\n",
    "              surface='topographic__elevation',\n",
    "              title='Surface plot of topography'):\n",
    "\n",
    "    fig = plt.figure()\n",
    "    ax = fig.add_subplot(projection='3d')\n",
    "    # Plot the surface.\n",
    "    Z = mg.at_node[surface].reshape(mg.shape)\n",
    "    print('Zmin{}, Zmax{}'.format(Z.min(), Z.max()))\n",
    "    color = cm.gray_r((Z - Z.min())*2 / (Z.max() - Z.min()))\n",
    "    surf = ax.plot_surface(mg.x_of_node.reshape(mg.shape),\n",
    "                           mg.y_of_node.reshape(mg.shape),\n",
    "                           Z,\n",
    "                           rstride=1,\n",
    "                           cstride=1,\n",
    "                           facecolors=color,\n",
    "                           linewidth=0.,\n",
    "                           antialiased=False,\n",
    "                          alpha = 0.67)\n",
    "    ax.view_init(elev=20, azim=-75)\n",
    "    ax.set_xlabel('X axis')\n",
    "    ax.set_ylabel('Y axis')\n",
    "    ax.set_zlabel('Elevation')\n",
    "    plt.title(title)\n",
    "    ax.set_box_aspect([1, 1, 0.2])\n",
    "    plt.show()\n",
    "    \n",
    "# 3d view\n",
    "surf_plot(mg)\n",
    "# 2d view\n",
    "plt.figure(figsize = (7,7))\n",
    "imshowhs_grid(mg,\n",
    "            'topographic__elevation',\n",
    "            drape1 = 'topographic__elevation',\n",
    "            cmap = 'terrain',\n",
    "            allow_colorbar=True,\n",
    "            plot_type=  \"Drape1\",\n",
    "            limits = (0,5),\n",
    "            alpha = 0.75,\n",
    "            altdeg=37., azdeg=210)"
   ]
  },
  {
   "cell_type": "markdown",
   "id": "ed728e90",
   "metadata": {},
   "source": [
    "### that's a nice looking pile...now set up an instance of MassWastingRuntout to model its collapse and runout "
   ]
  },
  {
   "cell_type": "code",
   "execution_count": null,
   "id": "efb1ccda",
   "metadata": {},
   "outputs": [],
   "source": [
    "mw_dict = {'critical slope':Sc, 'threshold flux':qsi,\n",
    "            'scour coefficient':k, 'effective particle diameter':Dp}\n",
    "MWRu = MassWastingRunout(mg, mw_dict, effective_qsi = False, save = True, grain_shear = False, settle_deposit = True)"
   ]
  },
  {
   "cell_type": "markdown",
   "id": "9fa9e1ff",
   "metadata": {},
   "source": [
    "### run the instance of MassWastingRunout"
   ]
  },
  {
   "cell_type": "code",
   "execution_count": null,
   "id": "491b1c30",
   "metadata": {},
   "outputs": [],
   "source": [
    "start_time = time.time()\n",
    "MWRu.run_one_step(run_id = 0)"
   ]
  },
  {
   "cell_type": "markdown",
   "id": "387fdbef",
   "metadata": {},
   "source": [
    "### view runout extent"
   ]
  },
  {
   "cell_type": "code",
   "execution_count": null,
   "id": "be0f1794",
   "metadata": {},
   "outputs": [],
   "source": [
    "# 3d view\n",
    "surf_plot(mg)\n",
    "\n",
    "#2d view\n",
    "plt.figure(figsize = (7,7))\n",
    "imshowhs_grid(mg,\n",
    "            'topographic__elevation',\n",
    "            drape1 = 'topographic__elevation',\n",
    "            cmap = 'terrain',\n",
    "            allow_colorbar=True,\n",
    "            plot_type=  \"Drape1\",\n",
    "            limits = (0,5),\n",
    "            alpha = 0.75,\n",
    "            altdeg=37., azdeg=210)"
   ]
  },
  {
   "cell_type": "markdown",
   "id": "e3026a3f",
   "metadata": {},
   "source": [
    "### view topographic change caused by the runout"
   ]
  },
  {
   "cell_type": "code",
   "execution_count": null,
   "id": "87bd4ebb",
   "metadata": {},
   "outputs": [],
   "source": [
    "mg.at_node['dem_dif_o'] = mg.at_node['topographic__elevation']-mg.at_node['topographic__initial_elevation']\n",
    "\n",
    "plt.figure(figsize = (7,7))\n",
    "imshowhs_grid(mg,\n",
    "            'dem_dif_o',\n",
    "            drape1 = 'dem_dif_o',\n",
    "            cmap = 'RdBu_r',\n",
    "            allow_colorbar=True,\n",
    "            plot_type=  \"Drape1\",\n",
    "            limits = (-0.5,0.5),\n",
    "            alpha = 0.75,\n",
    "            altdeg=37., azdeg=210)\n"
   ]
  },
  {
   "cell_type": "markdown",
   "id": "3192e89d",
   "metadata": {},
   "source": [
    "### view of the pile as it ranout"
   ]
  },
  {
   "cell_type": "markdown",
   "id": "fb76be72",
   "metadata": {},
   "source": [
    "#### first in 3d view"
   ]
  },
  {
   "cell_type": "code",
   "execution_count": null,
   "id": "7c9d227d",
   "metadata": {
    "scrolled": true
   },
   "outputs": [],
   "source": [
    "# plot how DEM changes\n",
    "for i in np.arange(0,len(MWRu.mw_ids)):\n",
    "    for c in MWRu.runout_evo_maps[i].keys():                  \n",
    "        plt.figure('topography'+str(c)+str(i),figsize=(12, 12))\n",
    "        mg.at_node['topographic__elevation'] = MWRu.runout_evo_maps[i][c]\n",
    "        # imshow_grid_at_node(mg,'df_topo',cmap ='RdBu_r')  \n",
    "        #LLT.plot_node_field_with_shaded_dem(mg,field = 'df_topo', fontsize = 10,cmap = 'RdBu_r', plot_name = 'topo + thick{},{}'.format(i,c) )\n",
    "        field = \"node_id\"\n",
    "        #plt.figure(figsize = (7,7))\n",
    "        \n",
    "        surf_plot(mg, 'topographic__elevation')\n",
    "        \n",
    "        #imshowhs_grid(mg,\n",
    "        #            'topographic_elevation',\n",
    "        #            drape1 = 'topographic_elevation',\n",
    "        #            cmap = 'terrain',\n",
    "        #            allow_colorbar=True,\n",
    "        #            plot_type=  \"Drape1\",\n",
    "        #            limits = (0,5),\n",
    "        #            alpha = 0.75,\n",
    "        #            altdeg=37., azdeg=210)\n",
    "        \n",
    "        \n",
    "        # plot_values(mg,field,xmin,xmax,ymin,ymax,field_back= field_back, background = False)\n",
    "        #plt.xticks(fontsize= 8 )\n",
    "        #plt.yticks(fontsize= 8 )\n",
    "        #plt.xlim([xmin*.8,xmax*1.2]); plt.ylim([ymin*.3,ymax])\n",
    "        #plt.show()\n",
    "\n",
    "        if c >50:\n",
    "            break"
   ]
  },
  {
   "cell_type": "markdown",
   "id": "d913503e",
   "metadata": {},
   "source": [
    "#### now in 2d view"
   ]
  },
  {
   "cell_type": "code",
   "execution_count": null,
   "id": "a4c88f47",
   "metadata": {
    "scrolled": false
   },
   "outputs": [],
   "source": [
    "# plot how DEM changes\n",
    "for i in np.arange(0,len(MWRu.mw_ids)):\n",
    "    for c in MWRu.runout_evo_maps[i].keys():                  \n",
    "        plt.figure('topography'+str(c)+str(i),figsize=(12, 12))\n",
    "        mg.at_node['topographic__elevation'] = MWRu.runout_evo_maps[i][c]\n",
    "        field = \"node_id\"\n",
    "        plt.figure(figsize = (7,7))\n",
    "        \n",
    "        imshowhs_grid(mg,\n",
    "                    'topographic__elevation',\n",
    "                    drape1 = 'topographic__elevation',\n",
    "                    cmap = 'terrain',\n",
    "                    allow_colorbar=True,\n",
    "                    plot_type=  \"Drape1\",\n",
    "                    limits = (0,5),\n",
    "                    alpha = 0.75,\n",
    "                    altdeg=37., azdeg=210)\n",
    "        plt.xticks(fontsize= 8 )\n",
    "        plt.yticks(fontsize= 8 )\n",
    "        plt.xlim([xmin*.8,xmax*1.2]); plt.ylim([ymin*.3,ymax])\n",
    "        plt.show()\n",
    "\n",
    "        if c >50:\n",
    "            break"
   ]
  },
  {
   "cell_type": "markdown",
   "id": "b1509cbd",
   "metadata": {},
   "source": [
    "#### and finally, in profile view"
   ]
  },
  {
   "cell_type": "code",
   "execution_count": null,
   "id": "43b3df92",
   "metadata": {
    "scrolled": false
   },
   "outputs": [],
   "source": [
    "pf = mg.nodes[int((r-1)/2),:]\n",
    "x_ = mg.node_x[pf]\n",
    "y = mg.at_node['topographic__initial_elevation'][pf]\n",
    "for i in np.arange(0,len(MWRu.mw_ids)):\n",
    "    for c in MWRu.runout_evo_maps[i].keys():                  \n",
    "        etopo = MWRu.runout_evo_maps[i][c]#-mg.at_node['topographic__initial_elevation']\n",
    "        topo = MWRu.topo_evo_maps[i][c]               \n",
    "        y_ = topo[pf]\n",
    "        _y_ = etopo[pf]\n",
    "        plt.figure(figsize = (6,3))\n",
    "        plt.plot(x_,y,'k--', alpha = 0.5, linewidth = 1,label = 'initial ground profile')\n",
    "        plt.plot(x_,y_,'g-', alpha = 0.5, linewidth = 1, label = 'ground profile, next iteration')\n",
    "        plt.plot(x_,_y_,'r-', alpha = 0.5, linewidth = 1, label = 'debriton surface')\n",
    "        plt.ylim(0,ls_h*3); plt.ylabel(' elevation ')\n",
    "        plt.xlim([0, max(mg.node_x)])\n",
    "        plt.legend()\n",
    "        plt.grid(alpha = 0.5)  \n",
    "        plt.title('iteration '+str(c))\n"
   ]
  },
  {
   "cell_type": "code",
   "execution_count": null,
   "id": "a2c2a53d",
   "metadata": {},
   "outputs": [],
   "source": []
  }
 ],
 "metadata": {
  "kernelspec": {
   "display_name": "Python 3 (ipykernel)",
   "language": "python",
   "name": "python3"
  },
  "language_info": {
   "codemirror_mode": {
    "name": "ipython",
    "version": 3
   },
   "file_extension": ".py",
   "mimetype": "text/x-python",
   "name": "python",
   "nbconvert_exporter": "python",
   "pygments_lexer": "ipython3",
   "version": "3.11.2"
  }
 },
 "nbformat": 4,
 "nbformat_minor": 5
}
