{
 "cells": [
  {
   "cell_type": "markdown",
   "id": "398be2d2",
   "metadata": {},
   "source": [
    "## What's the probability that a landslide that forms in a field mapped potentially unstable slope reaches the bridge?\n",
    "\n",
    "###                        Run MassWastingRunout with a user defined unstable slope, used in paper 2"
   ]
  },
  {
   "cell_type": "code",
   "execution_count": null,
   "id": "9442e40c",
   "metadata": {},
   "outputs": [],
   "source": [
    "# setup\n",
    "import os\n",
    "\n",
    "## import plotting tools\n",
    "from mpl_toolkits.mplot3d import Axes3D\n",
    "import matplotlib.pyplot as plt\n",
    "import pandas as pd\n",
    "import numpy as np\n",
    "\n",
    "## import necessary landlab components\n",
    "from landlab import RasterModelGrid\n",
    "from landlab.components import FlowAccumulator, LandslideProbability, SinkFillerBarnes\n",
    "from landlab.components import(FlowDirectorD8, \n",
    "                                FlowDirectorDINF, \n",
    "                                FlowDirectorMFD, \n",
    "                                FlowDirectorSteepest)\n",
    "\n",
    "from landlab.components.mass_wasting_router import MassWastingRunout\n",
    "\n",
    "## import landlab plotting functionality\n",
    "from landlab.plot.drainage_plot import drainage_plot\n",
    "from landlab import imshow_grid_at_node\n",
    "\n",
    "## import functions\n",
    "from landlab.io.esri_ascii import write_esri_ascii\n",
    "from landlab.io import read_esri_ascii\n",
    "from landlab.io.netcdf import read_netcdf\n",
    "\n",
    "from landlab.components import ChannelProfiler, FlowAccumulator, DepressionFinderAndRouter\n",
    "\n",
    "\n",
    "from landlab.components.mass_wasting_router.landslide_mapper import LandslideMapper as LM\n",
    "from landlab.components.mass_wasting_router import MassWastingRunout \n"
   ]
  },
  {
   "cell_type": "markdown",
   "id": "74609d1e",
   "metadata": {},
   "source": [
    "### import other custom plotting code and functions"
   ]
  },
  {
   "cell_type": "code",
   "execution_count": null,
   "id": "1a1d7561",
   "metadata": {},
   "outputs": [],
   "source": [
    "os.chdir('C:/Users/keckje/Documents/GitHub/code/landlab/LandlabTools')\n",
    "import LandlabTools as LLT\n",
    "os.chdir('C:/Users/keckje/Documents/GitHub/landlab/landlab/components/mass_wasting_router')\n",
    "from mwru_calibrator import (MWRu_calibrator,\n",
    "                                profile_distance,\n",
    "                                profile_plot,\n",
    "                                view_profile_nodes)\n",
    "os.chdir('C:/Users/keckje/Documents/GitHub/code/preevents/paper2/')\n",
    "import MassWastingRunoutEvaluationFunctions as MWF\n",
    "os.chdir('C:/Users/keckje/Documents/GitHub/landlab/landlab/components/mass_wasting_router')\n",
    "from mass_wasting_runout_probability import (MassWastingRunoutProbability,\n",
    "                                generate_cdf)"
   ]
  },
  {
   "cell_type": "markdown",
   "id": "b206cb3a",
   "metadata": {},
   "source": [
    "### import gis generated inputs (DEM) and set notebook controls"
   ]
  },
  {
   "cell_type": "code",
   "execution_count": null,
   "id": "600e8384",
   "metadata": {},
   "outputs": [],
   "source": [
    "svfig = 0 \n",
    "svnm = 'PtUnSlp_200_'\n",
    "hf = 30\n",
    "wf = 15\n",
    "\n",
    "\n",
    "# MWR controls\n",
    "qsc_constraint = True\n",
    "method = \"both\"\n",
    "routing_surface = \"topographic__elevation\"\n",
    "settle_deposit = False\n",
    "deposition_rule = \"critical_slope\"\n",
    "deposit_style = 'downslope_deposit_sc10'\n",
    "effective_qsi = True\n",
    "qsi_max = 10\n",
    "g_erosion = True\n",
    "\n",
    "\n",
    "# GIS generated inputs\n",
    "bdfdem = 'dem_mask.asc' # before debris flow dem\n",
    "bdfdem_hs = 'dem3fths_nd27.asc' # before debris flow dem hs\n",
    "potunslp = 'pot_unst_slpv2.asc'\n",
    "    \n",
    "\n",
    "\n",
    "# MWRP\n",
    "own = False # use parameter values from same site?\n",
    "ni = 10\n",
    "method = 'variable_size_landslide'\n",
    "\n",
    "\n",
    "mdir = 'D:/UW_PhD/PreeventsProject/Paper_2_MWR/RunoutValidation/KunamasktCreek/output/p2_final/MWRu_probability/'\n",
    "\n",
    "# GIS input file location\n",
    "dem_dir = 'D:/UW_PhD/PreeventsProject/Paper_2_MWR/RunoutValidation/KunamasktCreek/input/'\n",
    "# file location where output will be saved\n",
    "mdir = 'D:/UW_PhD/PreeventsProject/Paper_2_MWR/RunoutValidation/KunamasktCreek/output/p2_final/MWRu_probability/'\n",
    "pot_dir = dem_dir + 'pot_unst_slp/'"
   ]
  },
  {
   "cell_type": "markdown",
   "id": "5bb8fc09",
   "metadata": {},
   "source": [
    "### load calibration results and define inputs for MassWastingRunout"
   ]
  },
  {
   "cell_type": "code",
   "execution_count": null,
   "id": "f45acbb0",
   "metadata": {},
   "outputs": [],
   "source": [
    "#%% calibration results\n",
    "csvnm = 'K_2000_ns_n_mcmc.csv'\n",
    "\n",
    "# location of calibration output\n",
    "mdir = 'D:/UW_PhD/PreeventsProject/Paper_2_MWR/RunoutValidation/KunamasktCreek/output/p2_final/MCMC_v1/'\n",
    "\n",
    "results, best, sum_dict, params, mw_dict = MWF.calibration_results(mdir, csvnm, aspect = 'auto', fs = 13, cntrs = 8, figsize = (5,3.3),\n",
    "                        save = True, svnm = svnm, wdir = mdir, labloc = [[0.05,0.75], [0.75,0.75]])   \n",
    "\n",
    "#%% define parameter_cdf\n",
    "q,vals = generate_cdf(results,'slpc')\n",
    "parameter_cdf = {'slpc':[q,vals]}\n",
    "q,vals = generate_cdf(results,'SD')\n",
    "parameter_cdf['SD'] = [q,vals]\n",
    "\n",
    "\n",
    "\n",
    "release_dict = {'number of pulses':[1], 'iteration delay':[1] }\n"
   ]
  },
  {
   "cell_type": "markdown",
   "id": "a4b7bc30",
   "metadata": {},
   "source": [
    "### load topography, hillshade, soilthickness and grainsize fields"
   ]
  },
  {
   "cell_type": "code",
   "execution_count": null,
   "id": "ba83eb33",
   "metadata": {},
   "outputs": [],
   "source": [
    "# load existing landscape dem\n",
    "mg, z = read_esri_ascii(dem_dir+bdfdem, name='topographic__elevation')\n",
    "sz = z.shape \n",
    "\n",
    "# hillshade for plots\n",
    "mg.at_node['hillshade'] = mg.calc_hillshade_at_node(elevs=z, alt=30., az=210.)\n",
    "\n",
    "# set boundary conditions\n",
    "mg.status_at_node[np.isclose(z, -9999.)] = mg.BC_NODE_IS_CLOSED\n",
    "mg.set_watershed_boundary_condition(z) #finds lowest point in dem and sets it as an open node\n",
    "\n",
    "# soil depth\n",
    "(gt7, depth) = read_esri_ascii(dem_dir+'soild_nomask.asc', name='soil__thickness') \n",
    "mg.add_field('node', 'soil__thickness',depth)\n",
    "\n",
    "\n",
    "# # give particale diameter, north of 5288000 is coarse sandstone\n",
    "# mg.at_node['particle__diameter'] = np.ones(len(depth))*l_D\n",
    "# mg.at_node['particle__diameter'][mg.node_y>5288000] = u_D\n",
    "\n",
    "\n",
    "# DEM metrics, compute with landlab functions\n",
    "\n",
    "# compute slope, flow direction and fields\n",
    "slope, aspect = mg.calculate_slope_aspect_at_nodes_burrough(vals='topographic__elevation',)\n",
    "\n",
    "# Run FlowAccumulator, creates drainage area, reciever and slope fields\n",
    "fr = FlowAccumulator(mg,'topographic__elevation',flow_director='D8')\n",
    "fr.run_one_step()\n",
    "\n",
    "# fill sinks to see if Flow Accumulator works better\n",
    "sfb = SinkFillerBarnes(mg,'topographic__elevation', method='D8',fill_flat = False, \n",
    "                       ignore_overfill = False)\n",
    "sfb.run_one_step()\n",
    "\n",
    "\n",
    "df_4 = DepressionFinderAndRouter(mg)\n",
    "df_4.map_depressions()\n",
    "\n",
    "\n",
    "# run flow director, add slope and receiving node fields\n",
    "mg.delete_field(loc = 'node', name = 'flow__sink_flag')\n",
    "mg.delete_field(loc = 'node', name = 'flow__link_to_receiver_node')\n",
    "mg.delete_field(loc = 'node', name = 'flow__receiver_node')\n",
    "mg.delete_field(loc = 'node', name = 'topographic__steepest_slope')\n",
    "\n",
    "\n",
    "# run flow director, add slope and receiving node fields\n",
    "fd = FlowDirectorMFD(mg, diagonals=True,\n",
    "                      partition_method = 'slope')\n",
    "# fd = FlowDirectorDINF(mg)\n",
    "\n",
    "# fd = FlowDirectorD8(mg)\n",
    "fd.run_one_step()\n",
    "\n",
    "\n",
    "# compute specific contributing area\n",
    "SCA = mg.at_node['drainage_area']/mg.dx\n",
    "\n",
    "# add particle diameter\n",
    "if g_erosion:\n",
    "    mg.at_node['particle__diameter'] = np.ones(len(mg.node_x))*mw_dict['effective particle diameter']"
   ]
  },
  {
   "cell_type": "markdown",
   "id": "ae93f4ed",
   "metadata": {},
   "source": [
    "### view topography"
   ]
  },
  {
   "cell_type": "code",
   "execution_count": null,
   "id": "caa7aa81",
   "metadata": {},
   "outputs": [],
   "source": [
    "LLT.plot_node_field_with_shaded_dem(mg,field = 'topographic__elevation', fontsize = 10)"
   ]
  },
  {
   "cell_type": "markdown",
   "id": "c1a1e5cd",
   "metadata": {},
   "source": [
    "### now add the potentially unstable slope polygon"
   ]
  },
  {
   "cell_type": "code",
   "execution_count": null,
   "id": "24b2e89b",
   "metadata": {},
   "outputs": [],
   "source": [
    "# mass wasting id\n",
    "_, mw1 = read_esri_ascii(pot_dir+potunslp, name='mass__wasting_id')\n",
    "mg.add_field('node', 'mass__wasting_id',mw1.astype(int))"
   ]
  },
  {
   "cell_type": "code",
   "execution_count": null,
   "id": "538eb25f",
   "metadata": {},
   "outputs": [],
   "source": [
    "LLT.plot_node_field_with_shaded_dem(mg,field = 'mass__wasting_id', fontsize = 10)"
   ]
  },
  {
   "cell_type": "markdown",
   "id": "16cd7946",
   "metadata": {},
   "source": [
    "### instantiate MassWastingRunout!!!!"
   ]
  },
  {
   "cell_type": "code",
   "execution_count": null,
   "id": "2d251608",
   "metadata": {},
   "outputs": [],
   "source": [
    "DebrisFlows = MassWastingRunout(mg,release_dict,mw_dict, save = False,\n",
    "                                veg_factor = 1,\n",
    "                                dist_to_full_flux_constraint = 0,\n",
    "                                routing_surface = routing_surface,\n",
    "                                settle_deposit = settle_deposit,\n",
    "                                deposition_rule = deposition_rule,\n",
    "                                deposit_style = deposit_style,\n",
    "                                effective_qsi = effective_qsi)"
   ]
  },
  {
   "cell_type": "markdown",
   "id": "f8a62b6b",
   "metadata": {},
   "source": [
    "### instantiate MassWastingRunoutProbability (MWRP) !!!!"
   ]
  },
  {
   "cell_type": "code",
   "execution_count": null,
   "id": "abca90f1",
   "metadata": {},
   "outputs": [],
   "source": [
    "MWRP = MassWastingRunoutProbability(grid = mg,\n",
    "                                    MWR = DebrisFlows,\n",
    "                                    parameter_cdf = parameter_cdf,\n",
    "                                    number_iterations = ni,\n",
    "                                    plot = False,\n",
    "                                    method = method, \n",
    "                                    )"
   ]
  },
  {
   "cell_type": "markdown",
   "id": "f7443b95",
   "metadata": {},
   "source": [
    "### Run MWRP"
   ]
  },
  {
   "cell_type": "code",
   "execution_count": null,
   "id": "dd1d4a6b",
   "metadata": {},
   "outputs": [],
   "source": [
    "MWRP.run_one_step()"
   ]
  },
  {
   "cell_type": "markdown",
   "id": "b8216098",
   "metadata": {},
   "source": [
    "### lets took a look at the likelihood that the runout reached the bridge"
   ]
  },
  {
   "cell_type": "code",
   "execution_count": null,
   "id": "b427d1b4",
   "metadata": {},
   "outputs": [],
   "source": [
    "LLT.plot_node_field_with_shaded_dem(mg,field = 'probability__of_runout',fontsize = 10, cmap = 'turbo')\n",
    "plt.clim(0,0.5)"
   ]
  },
  {
   "cell_type": "code",
   "execution_count": null,
   "id": "123bf7b6",
   "metadata": {},
   "outputs": [],
   "source": []
  }
 ],
 "metadata": {
  "kernelspec": {
   "display_name": "Python 3 (ipykernel)",
   "language": "python",
   "name": "python3"
  },
  "language_info": {
   "codemirror_mode": {
    "name": "ipython",
    "version": 3
   },
   "file_extension": ".py",
   "mimetype": "text/x-python",
   "name": "python",
   "nbconvert_exporter": "python",
   "pygments_lexer": "ipython3",
   "version": "3.11.2"
  }
 },
 "nbformat": 4,
 "nbformat_minor": 5
}
